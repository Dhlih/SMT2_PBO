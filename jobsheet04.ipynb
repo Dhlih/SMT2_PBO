{
  "nbformat": 4,
  "nbformat_minor": 0,
  "metadata": {
    "colab": {
      "provenance": [],
      "authorship_tag": "ABX9TyOPGEU2VwefFepHRbQMETPQ",
      "include_colab_link": true
    },
    "kernelspec": {
      "name": "python3",
      "display_name": "Python 3"
    },
    "language_info": {
      "name": "python"
    }
  },
  "cells": [
    {
      "cell_type": "markdown",
      "metadata": {
        "id": "view-in-github",
        "colab_type": "text"
      },
      "source": [
        "<a href=\"https://colab.research.google.com/github/Dhlih/SMT2_PBO/blob/main/jobsheet04.ipynb\" target=\"_parent\"><img src=\"https://colab.research.google.com/assets/colab-badge.svg\" alt=\"Open In Colab\"/></a>"
      ]
    },
    {
      "cell_type": "markdown",
      "source": [
        "## PRAKTIKUM 1"
      ],
      "metadata": {
        "id": "G64EbXqEl_10"
      }
    },
    {
      "cell_type": "code",
      "source": [
        "!apt-get install -y locales\n",
        "!locale-gen id_ID.UTF-8\n",
        "!update-locale"
      ],
      "metadata": {
        "id": "JU4DaVYYFELA",
        "outputId": "dde0ef2e-6fd8-4055-86ad-4f078070be31",
        "colab": {
          "base_uri": "https://localhost:8080/"
        }
      },
      "execution_count": 1,
      "outputs": [
        {
          "output_type": "stream",
          "name": "stdout",
          "text": [
            "Reading package lists... Done\n",
            "Building dependency tree... Done\n",
            "Reading state information... Done\n",
            "locales is already the newest version (2.35-0ubuntu3.9).\n",
            "0 upgraded, 0 newly installed, 0 to remove and 34 not upgraded.\n",
            "Generating locales (this might take a while)...\n",
            "  id_ID.UTF-8... done\n",
            "Generation complete.\n"
          ]
        }
      ]
    },
    {
      "cell_type": "code",
      "source": [
        "class Kendaraan:\n",
        "  def __init__(self, merk):\n",
        "    self.merk = merk\n",
        "\n",
        "  def mulai_mesin(self):\n",
        "    print(f\"Mesin kendaraan {self.merk} dinyalakan\")\n",
        "\n",
        "\n",
        "class Mobil(Kendaraan):\n",
        "    def __init__(self, merk, warna):\n",
        "      self.merk = merk\n",
        "      self.warna = warna\n",
        "\n",
        "    def info_mobil(self):\n",
        "      print(f\"ini adalah mobil {self.merk} berwarna {self.merk}\")\n",
        "\n",
        "if __name__ == \"__main__\" :\n",
        "  mobil_tesla = Mobil(\"Tesla Model S\", \"Merah\")\n",
        "\n",
        "  mobil_tesla.info_mobil()\n",
        "\n",
        "  mobil_tesla.mulai_mesin()\n",
        "\n",
        "  print(f\"Merk mobil : {mobil_tesla.merk}\")\n"
      ],
      "metadata": {
        "colab": {
          "base_uri": "https://localhost:8080/"
        },
        "id": "JPm2Yx8pmM2e",
        "outputId": "5b75474f-ac34-4139-bbdd-2af5bac0f7d8"
      },
      "execution_count": 2,
      "outputs": [
        {
          "output_type": "stream",
          "name": "stdout",
          "text": [
            "ini adalah mobil Tesla Model S berwarna Tesla Model S\n",
            "Mesin kendaraan Tesla Model S dinyalakan\n",
            "Merk mobil : Tesla Model S\n"
          ]
        }
      ]
    },
    {
      "cell_type": "markdown",
      "source": [
        "## PRAKTIKUM 2"
      ],
      "metadata": {
        "id": "kwf81kbYn2c2"
      }
    },
    {
      "cell_type": "code",
      "source": [
        "class Person:\n",
        "  def __init__(self, nama, usia):\n",
        "    print(f\"(Memanggil __init__ Person untuk {nama})\")\n",
        "    self.nama = nama\n",
        "    self.usia = usia\n",
        "\n",
        "  def perkenalan_diri(self):\n",
        "    print(f\"Halo, nama saya {self.nama}, usia saya {self.usia} tahun\")\n",
        "\n",
        "class Student(Person):\n",
        "  def __init__(self, nama, usia, student_id, jurusan):\n",
        "    print(f\"(Memanggil __init__ Student untuk {nama})\")\n",
        "    super().__init__(nama,usia)\n",
        "    self.student_id = student_id\n",
        "    self.jurusan = jurusan\n",
        "    print(f\"(Inisialisasi atribut Student selesai untuk {nama})\")\n",
        "\n",
        "  def info_akademik(self):\n",
        "    print(\"ID Mahasiswa : {self.student_id}\")\n",
        "    print(f\"Jurusan : {self.jurusan}\")\n",
        "\n",
        "  def perkenalan_diri(self):\n",
        "    super().perkenalan_diri()\n",
        "    print(f\"Saya adalah mahasiswa dengan ID {self.student_id}, jurusan {self.jurusan}\")\n",
        "\n",
        "if __name__ == \"__main__\" :\n",
        "  dosen = Person(\"Pak Anton\", 45)\n",
        "  print(\"-\" * 20)\n",
        "  dosen.perkenalan_diri()\n",
        "  print(\"\\n\" + \"=\" * 30 + \"\\n\")\n",
        "\n",
        "  mahasiswa = Student(\"Dewi\", 20, \"MSH001\", \"Teknik Komputer\")\n",
        "  print(\"-\" * 20)\n",
        "  mahasiswa.perkenalan_diri()\n",
        "  print(\"-\" * 20)\n",
        "  mahasiswa.info_akademik()\n",
        "\n",
        "  print(f\"\\nUsia mahasiswa {mahasiswa.nama}: {mahasiswa.usia}\")\n"
      ],
      "metadata": {
        "colab": {
          "base_uri": "https://localhost:8080/"
        },
        "id": "zksmdzufmdFW",
        "outputId": "d9b7fb5f-b6df-474d-dbfc-25838909dbca"
      },
      "execution_count": 3,
      "outputs": [
        {
          "output_type": "stream",
          "name": "stdout",
          "text": [
            "(Memanggil __init__ Person untuk Pak Anton)\n",
            "--------------------\n",
            "Halo, nama saya Pak Anton, usia saya 45 tahun\n",
            "\n",
            "==============================\n",
            "\n",
            "(Memanggil __init__ Student untuk Dewi)\n",
            "(Memanggil __init__ Person untuk Dewi)\n",
            "(Inisialisasi atribut Student selesai untuk Dewi)\n",
            "--------------------\n",
            "Halo, nama saya Dewi, usia saya 20 tahun\n",
            "Saya adalah mahasiswa dengan ID MSH001, jurusan Teknik Komputer\n",
            "--------------------\n",
            "ID Mahasiswa : {self.student_id}\n",
            "Jurusan : Teknik Komputer\n",
            "\n",
            "Usia mahasiswa Dewi: 20\n"
          ]
        }
      ]
    },
    {
      "cell_type": "markdown",
      "source": [
        "## PRAKTIKUM 3"
      ],
      "metadata": {
        "id": "WvunnveksAcp"
      }
    },
    {
      "cell_type": "code",
      "source": [
        "class Hewan:\n",
        "  def __init__(self, nama):\n",
        "    self.nama = nama\n",
        "\n",
        "  def bersuara(self):\n",
        "    print(f\"{self.nama} mengeluarkan suara generik\")\n",
        "\n",
        "  def tampilkan_info(self):\n",
        "    print(f\"Ini adalah hewan bernama {self.nama}\")\n",
        "\n",
        "class Kucing(Hewan):\n",
        "  def __init__(self, nama, ras):\n",
        "    super().__init__(nama)\n",
        "    self.ras = ras\n",
        "\n",
        "  def bersuara(self):\n",
        "    print(f\"{self.nama} (Kucing) mengeong: Meow!\")\n",
        "\n",
        "  def tampilkan_info(self):\n",
        "    super().tampilkan_info()\n",
        "    print(f\"Ini adalah kucing ras {self.ras}\")\n",
        "\n",
        "if __name__ == \"__main__\" :\n",
        "  hewan_umum = Hewan(\"Makhluk\")\n",
        "  kucing_persia = Kucing(\"Puspus\", \"Persia\")\n",
        "\n",
        "  print(\"Info Hewan Umum:\")\n",
        "  hewan_umum.tampilkan_info()\n",
        "  hewan_umum.bersuara()\n",
        "  print(\"-\" * 20)\n",
        "\n",
        "  print(\"Info Kucing Persia : \")\n",
        "  kucing_persia.tampilkan_info()\n",
        "  kucing_persia.bersuara()\n",
        "\n"
      ],
      "metadata": {
        "colab": {
          "base_uri": "https://localhost:8080/"
        },
        "id": "PW7ZOsXOoNJt",
        "outputId": "a26f4a4e-5ebc-4485-c519-0c3ed8986aa2"
      },
      "execution_count": 4,
      "outputs": [
        {
          "output_type": "stream",
          "name": "stdout",
          "text": [
            "Info Hewan Umum:\n",
            "Ini adalah hewan bernama Makhluk\n",
            "Makhluk mengeluarkan suara generik\n",
            "--------------------\n",
            "Info Kucing Persia : \n",
            "Ini adalah hewan bernama Puspus\n",
            "Ini adalah kucing ras Persia\n",
            "Puspus (Kucing) mengeong: Meow!\n"
          ]
        }
      ]
    },
    {
      "cell_type": "markdown",
      "source": [
        "## PRAKTIKUM 4"
      ],
      "metadata": {
        "id": "U4KhR015tkQB"
      }
    },
    {
      "cell_type": "code",
      "source": [
        "class Organisme:\n",
        "  def __init__(self,nama) :\n",
        "    self.nama = nama\n",
        "    print(f\"Organisme '{self.nama}' diciptakan\")\n",
        "\n",
        "  def bernapas(self) :\n",
        "    print(f\"{self.nama} sedang bernapas.\")\n",
        "\n",
        "class Hewan(Organisme) :\n",
        "  def __init__ (self, nama, jenis_makanan):\n",
        "    super().__init__(nama)\n",
        "    self.jenis_makanan = jenis_makanan\n",
        "    print(f\"Hewan '{self.nama}' adalah {self.jenis_makanan}\")\n",
        "\n",
        "  def bergerak(self):\n",
        "    print(f\"{self.nama} sedang bergerak.\")\n",
        "\n",
        "class Mamalia(Hewan):\n",
        "  def __init__(self,nama, jenis_makanan, jumlah_kaki):\n",
        "    super().__init__(nama, jenis_makanan)\n",
        "    self.jumlah_kaki = jumlah_kaki\n",
        "    print(f\"Mamalia {self.nama} memiliki {self.jumlah_kaki}\")\n",
        "\n",
        "  def menyusui(self) :\n",
        "    print(f\"{self.nama} sedang menyusui\")\n",
        "\n",
        "if __name__ == \"__main__\" :\n",
        "  kucing = Mamalia(\"Kucing Persia\", \"Karnivora\", 4)\n",
        "  print(\"-\" * 20)\n",
        "\n",
        "  kucing.menyusui()\n",
        "\n",
        "  kucing.bergerak()\n",
        "\n",
        "  print(f\"Jenis makanan : {kucing.jenis_makanan}\")\n",
        "\n",
        "  kucing.bernapas()\n",
        "  print(f\"Nama organisme : {kucing.nama}\")"
      ],
      "metadata": {
        "colab": {
          "base_uri": "https://localhost:8080/"
        },
        "id": "tu5lksJysFWj",
        "outputId": "5cdf545d-07d3-4c6c-d6bb-36ad9177228b"
      },
      "execution_count": 5,
      "outputs": [
        {
          "output_type": "stream",
          "name": "stdout",
          "text": [
            "Organisme 'Kucing Persia' diciptakan\n",
            "Hewan 'Kucing Persia' adalah Karnivora\n",
            "Mamalia Kucing Persia memiliki 4\n",
            "--------------------\n",
            "Kucing Persia sedang menyusui\n",
            "Kucing Persia sedang bergerak.\n",
            "Jenis makanan : Karnivora\n",
            "Kucing Persia sedang bernapas.\n",
            "Nama organisme : Kucing Persia\n"
          ]
        }
      ]
    },
    {
      "cell_type": "code",
      "source": [],
      "metadata": {
        "id": "xRtgQ7xTto0v"
      },
      "execution_count": 5,
      "outputs": []
    },
    {
      "cell_type": "markdown",
      "source": [
        "## PRAKTIKUM 5"
      ],
      "metadata": {
        "id": "nirwx_Clwuel"
      }
    },
    {
      "cell_type": "code",
      "source": [
        "import locale\n",
        "\n",
        "try:\n",
        "  locale.setlocale(locale.LC_ALL, 'id_ID.UTF-8')\n",
        "except locale.Error:\n",
        "  print(\"Locale id_ID.UTF-8 tidak tersedia, nenggunakan locale.default.\")\n",
        "\n",
        "def format_rupiah (angka):\n",
        "  return locale.currency(angka, grouping=True, symbol=\"Rp\")\n",
        "\n",
        "class Pegawai:\n",
        "  def __init__ (self, nama, id_pegawai, gaji_pokok):\n",
        "    self.nama = nama\n",
        "    self.id_pegawai = id_pegawai\n",
        "    self.gaji_pokok = gaji_pokok\n",
        "\n",
        "  def hitung_gaji (self) :\n",
        "    return self.gaji_pokok\n",
        "\n",
        "  def tampilkan_info(self) :\n",
        "    print(f\"ID : {self.id_pegawai}, Nama : {self.nama}\")\n",
        "    print(f\"Gaji pokok : {format_rupiah(self.gaji_pokok)}\")\n",
        "\n",
        "class Manager (Pegawai) :\n",
        "  def __init__ (self, nama, id_pegawai, gaji_pokok, tunjangan_jabatan) :\n",
        "    super().__init__(nama, id_pegawai, gaji_pokok)\n",
        "    self.tunjangan_jabatan = tunjangan_jabatan\n",
        "\n",
        "  def hitung_gaji (self):\n",
        "    gaji_total = super().hitung_gaji() + self.tunjangan_jabatan\n",
        "    return gaji_total\n",
        "\n",
        "  def tampilkan_info (self) :\n",
        "    print( \"---- Info manager ---\")\n",
        "    super().tampilkan_info()\n",
        "    print(f\"Total gaji: {format_rupiah(self.hitung_gaji())}\")\n",
        "\n",
        "class StaffTeknis (Pegawai):\n",
        "  def __init__ (self, nama, id_pegawai, gaji_pokok, keahlian, bonus_keahlian):\n",
        "    super().__init__(nama, id_pegawai, gaji_pokok)\n",
        "    self.keahlian = keahlian\n",
        "    self.bonus_keahlian = bonus_keahlian\n",
        "\n",
        "  def hitung_gaji(self) :\n",
        "    gaji_total = super().hitung_gaji() + self.bonus_keahlian\n",
        "    return gaji_total\n",
        "\n",
        "  def tampilkan_info (self) :\n",
        "    print(\"---- Info Staff Teknis ---\")\n",
        "    super().tampilkan_info()\n",
        "    print(f\"Keahlian : {self.keahlian}\")\n",
        "    print(f\"Bonus keahlian : {format_rupiah(self.bonus_keahlian)}\")\n",
        "    print(f\"Total gaji : {format_rupiah(self.hitung_gaji())}\")\n",
        "\n",
        "if __name__ == \"__main__\"     :\n",
        "  manager1 =  Manager(\"Budi Santoso\", \"M001\", 10000000, 5000000)\n",
        "  staf1 = StaffTeknis(\"Citra Lestari\", \"S001\", 7000000, \"Python Programming\", 1500000)\n",
        "  pegawai_baru = Pegawai(\"Rian\", \"P005\", 5000000)\n",
        "\n",
        "  print(\"Menampilkan informasi pegawai : \")\n",
        "  manager1.tampilkan_info()\n",
        "  print(\"-\" * 20)\n",
        "  staf1.tampilkan_info()\n",
        "  print(\"-\" * 20)\n",
        "\n",
        "  print(\"--- Info PeGAWAI Baru ----\")\n",
        "  pegawai_baru.tampilkan_info()\n",
        "  print(f\"Total gaji : {format_rupiah(pegawai_baru.hitung_gaji())}\")\n",
        "  print(\"-\" * 20)\n",
        "\n",
        "\n",
        "\n",
        "\n"
      ],
      "metadata": {
        "colab": {
          "base_uri": "https://localhost:8080/"
        },
        "id": "j_IUnOwYwvhU",
        "outputId": "2e833348-0351-4e96-8aab-3fc92e7551d8"
      },
      "execution_count": 6,
      "outputs": [
        {
          "output_type": "stream",
          "name": "stdout",
          "text": [
            "Menampilkan informasi pegawai : \n",
            "---- Info manager ---\n",
            "ID : M001, Nama : Budi Santoso\n",
            "Gaji pokok : Rp10.000.000,00\n",
            "Total gaji: Rp15.000.000,00\n",
            "--------------------\n",
            "---- Info Staff Teknis ---\n",
            "ID : S001, Nama : Citra Lestari\n",
            "Gaji pokok : Rp7.000.000,00\n",
            "Keahlian : Python Programming\n",
            "Bonus keahlian : Rp1.500.000,00\n",
            "Total gaji : Rp8.500.000,00\n",
            "--------------------\n",
            "--- Info PeGAWAI Baru ----\n",
            "ID : P005, Nama : Rian\n",
            "Gaji pokok : Rp5.000.000,00\n",
            "Total gaji : Rp5.000.000,00\n",
            "--------------------\n"
          ]
        }
      ]
    },
    {
      "cell_type": "markdown",
      "source": [
        "## PRAKTIKUM 6"
      ],
      "metadata": {
        "id": "Vpge7Q7j40RT"
      }
    },
    {
      "cell_type": "code",
      "source": [
        "class BentukGeometri:\n",
        "  def __init__ (self, nama_bentuk):\n",
        "    self.nama = nama_bentuk\n",
        "  def tampilkan_nama(self):\n",
        "    print(f\"Ini adalah bentuk : {self.nama}\")\n",
        "  def hitung_luas(self):\n",
        "    print(f\"Luas {self.nama } tidak dapat dihitung (generik)\")\n",
        "\n",
        "class PersegiPanjang (BentukGeometri) :\n",
        "    def __init__(self, panjang, lebar) :\n",
        "      super().__init__(\"Persegi Panjang\")\n",
        "      self.panjang = panjang\n",
        "      self.lebar = lebar\n",
        "    def hitung_luas(self) :\n",
        "      luas = self.panjang * self.lebar\n",
        "      print(f\"Luas {self.nama} : {luas}\")\n",
        "\n",
        "class Segitiga(BentukGeometri) :\n",
        "  def __init__(self, alas, tinggi) :\n",
        "    super().__init__(\"Segitiga\")\n",
        "    self.alas = alas\n",
        "    self.tinggi = tinggi\n",
        "  def hitung_luas(self) :\n",
        "    luas = 0.5 * self.alas * self.tinggi\n",
        "    print(f\"Luas {self.nama} : {luas}\")\n",
        "\n",
        "def proses_bentuk(bentuk):\n",
        "    print(f\"\\nMemproses objek : {type(bentuk)}\")\n",
        "    if isinstance(bentuk, BentukGeometri):\n",
        "      bentuk.tampilkan_nama()\n",
        "      print(\"Objek ini adalah instance dari BentukGeometri (atau turunannya)\")\n",
        "\n",
        "      if isinstance (bentuk, PersegiPanjang):\n",
        "        print(\"-> Objek ini juga isntance dari PersegiPanjang\")\n",
        "      elif isinstance (bentuk, Segitiga):\n",
        "        print(\"-> Objek ini juga instance dari Segitiga\")\n",
        "\n",
        "    else:\n",
        "      print(\"Objek ini BUKAN instance dari BentukGeometri\")\n",
        "\n",
        "    if isinstance(bentuk, str):\n",
        "      print(\"Objek ini adalah string.\")\n",
        "\n",
        "if __name__ == \"__main__\" :\n",
        "  pp = PersegiPanjang(4,3)\n",
        "  seg = Segitiga(5,2)\n",
        "\n",
        "  bg = BentukGeometri(\"Lingkaran\")\n",
        "  teks = \"Ini string\"\n",
        "\n",
        "  daftar_objek = [pp, seg, bg, teks]\n",
        "\n",
        "  for obj in daftar_objek:\n",
        "    proses_bentuk(obj)\n",
        "\n",
        "\n"
      ],
      "metadata": {
        "colab": {
          "base_uri": "https://localhost:8080/"
        },
        "id": "UCLW_Yaf44VM",
        "outputId": "1e8b68e6-c0c5-4066-d1ce-5346e67de40f"
      },
      "execution_count": 7,
      "outputs": [
        {
          "output_type": "stream",
          "name": "stdout",
          "text": [
            "\n",
            "Memproses objek : <class '__main__.PersegiPanjang'>\n",
            "Ini adalah bentuk : Persegi Panjang\n",
            "Objek ini adalah instance dari BentukGeometri (atau turunannya)\n",
            "-> Objek ini juga isntance dari PersegiPanjang\n",
            "\n",
            "Memproses objek : <class '__main__.Segitiga'>\n",
            "Ini adalah bentuk : Segitiga\n",
            "Objek ini adalah instance dari BentukGeometri (atau turunannya)\n",
            "-> Objek ini juga instance dari Segitiga\n",
            "\n",
            "Memproses objek : <class '__main__.BentukGeometri'>\n",
            "Ini adalah bentuk : Lingkaran\n",
            "Objek ini adalah instance dari BentukGeometri (atau turunannya)\n",
            "\n",
            "Memproses objek : <class 'str'>\n",
            "Objek ini BUKAN instance dari BentukGeometri\n",
            "Objek ini adalah string.\n"
          ]
        }
      ]
    },
    {
      "cell_type": "markdown",
      "source": [
        "## PENUGASAN"
      ],
      "metadata": {
        "id": "8KL8fpuU_vJ0"
      }
    },
    {
      "cell_type": "code",
      "source": [
        "class Mahasiswa:\n",
        "  def __init__(self, nama, nim, ipk):\n",
        "    self.nama = nama\n",
        "    self.nim = nim\n",
        "    self.ipk = ipk\n",
        "\n",
        "  def tampilkan_info(self):\n",
        "    print(f\"Nama : {self.nama} \\nNIM : {self.nim} \\nIPK : {self.ipk}\")\n",
        "\n",
        "  def hitung_predikat(self):\n",
        "    if self.ipk >= 3.5:\n",
        "      print(f\"Saudara {self.nama} lulus dengan predikat terpuji\")\n",
        "    elif self.ipk >= 3:\n",
        "      print(f\"Saudara {self.nama} lulus dengan predikat sangat memuaskan\")\n",
        "    elif self.ipk >= 2.5:\n",
        "      print(f\"Saudara {self.nama} lulus dengan predikat memuaskan\")\n",
        "    else:\n",
        "      print(f\"Saudara {self.nama} lulus dengan predikat cukup\")\n",
        "\n",
        "class MahasiswaSarjana(Mahasiswa):\n",
        "  def __init__(self, nama, nim, ipk, semester, sks_lulus):\n",
        "    super().__init__(nama, nim, ipk)\n",
        "    self.semester = semester\n",
        "    self.sks_lulus = sks_lulus\n",
        "\n",
        "  def tampilkan_info(self):\n",
        "    super().tampilkan_info()\n",
        "    print(f\"Semester : {self.semester} \\nSKS Lulus : {self.sks_lulus}\")\n",
        "\n",
        "class MahasiswaMagister(Mahasiswa):\n",
        "  def __init__(self, nama, nim, ipk, judul_tesis, nama_pembimbing):\n",
        "    super().__init__(nama, nim, ipk)\n",
        "    self.judul_tesis = judul_tesis\n",
        "    self.nama_pembimbing = nama_pembimbing\n",
        "\n",
        "  def tampilkan_info(self):\n",
        "    super().tampilkan_info()\n",
        "    print(f\"Judul Tesis : {self.judul_tesis} \\nNama Pembimbing : {self.nama_pembimbing}\")\n",
        "\n",
        "if __name__ == \"__main__\" :\n",
        "  Yusuf_Fadhlih_Firmansyah = MahasiswaSarjana(\"Yusuf Fadhlih Firmansyah\", \"4.33.24.1.26\", 3.9, 2, 144)\n",
        "  Azka_Yudia_Febriano = MahasiswaMagister(\"Azka Yudia Febriano\", \"4.33.24.1.20\", \"4.0\", \"Performa next js\", \"Pak Budi\")\n",
        "\n",
        "  Yusuf_Fadhlih_Firmansyah.hitung_predikat()\n",
        "  Yusuf_Fadhlih_Firmansyah.tampilkan_info()\n",
        "  print(\"-\" * 20)\n",
        "  Azka_Yudia_Febriano.tampilkan_info()\n",
        "\n",
        "\n",
        "\n"
      ],
      "metadata": {
        "colab": {
          "base_uri": "https://localhost:8080/"
        },
        "id": "smH1XuC5_we4",
        "outputId": "194328ac-9688-47e8-f2a1-8b3214650c82"
      },
      "execution_count": 8,
      "outputs": [
        {
          "output_type": "stream",
          "name": "stdout",
          "text": [
            "Saudara Yusuf Fadhlih Firmansyah lulus dengan predikat terpuji\n",
            "Nama : Yusuf Fadhlih Firmansyah \n",
            "NIM : 4.33.24.1.26 \n",
            "IPK : 3.9\n",
            "Semester : 2 \n",
            "SKS Lulus : 144\n",
            "--------------------\n",
            "Nama : Azka Yudia Febriano \n",
            "NIM : 4.33.24.1.20 \n",
            "IPK : 4.0\n",
            "Judul Tesis : Performa next js \n",
            "Nama Pembimbing : Pak Budi\n"
          ]
        }
      ]
    },
    {
      "cell_type": "markdown",
      "source": [
        "![Screenshot 2025-04-24 200233.png](data:image/png;base64,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)"
      ],
      "metadata": {
        "id": "z4QxmSUu5L0n"
      }
    },
    {
      "cell_type": "code",
      "source": [],
      "metadata": {
        "id": "JlmCVL685Pa4"
      },
      "execution_count": null,
      "outputs": []
    }
  ]
}