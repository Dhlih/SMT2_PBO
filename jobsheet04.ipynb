{
  "nbformat": 4,
  "nbformat_minor": 0,
  "metadata": {
    "colab": {
      "provenance": [],
      "authorship_tag": "ABX9TyNv4qKA+QBJegT305HKiZZ8",
      "include_colab_link": true
    },
    "kernelspec": {
      "name": "python3",
      "display_name": "Python 3"
    },
    "language_info": {
      "name": "python"
    }
  },
  "cells": [
    {
      "cell_type": "markdown",
      "metadata": {
        "id": "view-in-github",
        "colab_type": "text"
      },
      "source": [
        "<a href=\"https://colab.research.google.com/github/Dhlih/SMT2_PBO/blob/main/jobsheet04.ipynb\" target=\"_parent\"><img src=\"https://colab.research.google.com/assets/colab-badge.svg\" alt=\"Open In Colab\"/></a>"
      ]
    },
    {
      "cell_type": "markdown",
      "source": [
        "## PRAKTIKUM 1"
      ],
      "metadata": {
        "id": "G64EbXqEl_10"
      }
    },
    {
      "cell_type": "code",
      "source": [
        "class Kendaraan:\n",
        "  def __init__(self, merk):\n",
        "    self.merk = merk\n",
        "\n",
        "  def mulai_mesin(self):\n",
        "    print(f\"Mesin kendaraan {self.merk} dinyalakan\")\n",
        "\n",
        "\n",
        "class Mobil(Kendaraan):\n",
        "    def __init__(self, merk, warna):\n",
        "      self.merk = merk\n",
        "      self.warna = warna\n",
        "\n",
        "    def info_mobil(self):\n",
        "      print(f\"ini adalah mobil {self.merk} berwarna {self.merk}\")\n",
        "\n",
        "if __name__ == \"__main__\" :\n",
        "  mobil_tesla = Mobil(\"Tesla Model S\", \"Merah\")\n",
        "\n",
        "  mobil_tesla.info_mobil()\n",
        "\n",
        "  mobil_tesla.mulai_mesin()\n",
        "\n",
        "  print(f\"Merk mobil : {mobil_tesla.merk}\")\n"
      ],
      "metadata": {
        "colab": {
          "base_uri": "https://localhost:8080/"
        },
        "id": "JPm2Yx8pmM2e",
        "outputId": "caf054ed-09ad-4c70-88ce-ce851a2b5d25"
      },
      "execution_count": 3,
      "outputs": [
        {
          "output_type": "stream",
          "name": "stdout",
          "text": [
            "ini adalah mobil Tesla Model S berwarna Tesla Model S\n",
            "Mesin kendaraan Tesla Model S dinyalakan\n",
            "Merk mobil : Tesla Model S\n"
          ]
        }
      ]
    },
    {
      "cell_type": "markdown",
      "source": [
        "## PRAKTIKUM 2"
      ],
      "metadata": {
        "id": "kwf81kbYn2c2"
      }
    },
    {
      "cell_type": "code",
      "source": [
        "class Person:\n",
        "  def __init__(self, nama, usia):\n",
        "    print(f\"(Memanggil __init__ Person untuk {nama})\")\n",
        "    self.nama = nama\n",
        "    self.usia = usia\n",
        "\n",
        "  def perkenalan_diri(self):\n",
        "    print(f\"Halo, nama saya {self.nama}, usia saya {self.usia} tahun\")\n",
        "\n",
        "class Student(Person):\n",
        "  def __init__(self, nama, usia, student_id, jurusan):\n",
        "    print(f\"(Memanggil __init__ Student untuk {nama})\")\n",
        "    super().__init__(nama,usia)\n",
        "    self.student_id = student_id\n",
        "    self.jurusan = jurusan\n",
        "    print(f\"(Inisialisasi atribut Student selesai untuk {nama})\")\n",
        "\n",
        "  def info_akademik(self):\n",
        "    print(\"ID Mahasiswa : {self.student_id}\")\n",
        "    print(f\"Jurusan : {self.jurusan}\")\n",
        "\n",
        "  def perkenalan_diri(self):\n",
        "    super().perkenalan_diri()\n",
        "    print(f\"Saya adalah mahasiswa dengan ID {self.student_id}, jurusan {self.jurusan}\")\n",
        "\n",
        "if __name__ == \"__main__\" :\n",
        "  dosen = Person(\"Pak Anton\", 45)\n",
        "  print(\"-\" * 20)\n",
        "  dosen.perkenalan_diri()\n",
        "  print(\"\\n\" + \"=\" * 30 + \"\\n\")\n",
        "\n",
        "  mahasiswa = Student(\"Dewi\", 20, \"MSH001\", \"Teknik Komputer\")\n",
        "  print(\"-\" * 20)\n",
        "  mahasiswa.perkenalan_diri()\n",
        "  print(\"-\" * 20)\n",
        "  mahasiswa.info_akademik()\n",
        "\n",
        "  print(f\"\\nUsia mahasiswa {mahasiswa.nama}: {mahasiswa.usia}\")\n"
      ],
      "metadata": {
        "colab": {
          "base_uri": "https://localhost:8080/"
        },
        "id": "zksmdzufmdFW",
        "outputId": "e1a1340d-2e72-49a3-da77-fd3ef034e7a1"
      },
      "execution_count": 9,
      "outputs": [
        {
          "output_type": "stream",
          "name": "stdout",
          "text": [
            "(Memanggil __init__ Person untuk Pak Anton)\n",
            "--------------------\n",
            "Halo, nama saya Pak Anton, usia saya 45 tahun\n",
            "\n",
            "==============================\n",
            "\n",
            "(Memanggil __init__ Student untuk Dewi)\n",
            "(Memanggil __init__ Person untuk Dewi)\n",
            "(Inisialisasi atribut Student selesai untuk Dewi)\n",
            "--------------------\n",
            "Halo, nama saya Dewi, usia saya 20 tahun\n",
            "Saya adalah mahasiswa dengan ID MSH001, jurusan Teknik Komputer\n",
            "--------------------\n",
            "ID Mahasiswa : {self.student_id}\n",
            "Jurusan : Teknik Komputer\n",
            "\n",
            "Usia mahasiswa Dewi: 20\n"
          ]
        }
      ]
    },
    {
      "cell_type": "markdown",
      "source": [
        "## PRAKTIKUM 3"
      ],
      "metadata": {
        "id": "WvunnveksAcp"
      }
    },
    {
      "cell_type": "code",
      "source": [
        "class Hewan:\n",
        "  def __init__(self, nama):\n",
        "    self.nama = nama\n",
        "\n",
        "  def bersuara(self):\n",
        "    print(f\"{self.nama} mengeluarkan suara generik\")\n",
        "\n",
        "  def tampilkan_info(self):\n",
        "    print(f\"Ini adalah hewan bernama {self.nama}\")\n",
        "\n",
        "class Kucing(Hewan):\n",
        "  def __init__(self, nama, ras):\n",
        "    super().__init__(nama)\n",
        "    self.ras = ras\n",
        "\n",
        "  def bersuara(self):\n",
        "    print(f\"{self.nama} (Kucing) mengeong: Meow!\")\n",
        "\n",
        "  def tampilkan_info(self):\n",
        "    super().tampilkan_info()\n",
        "    print(f\"Ini adalah kucing ras {self.ras}\")\n",
        "\n",
        "if __name__ == \"__main__\" :\n",
        "  hewan_umum = Hewan(\"Makhluk\")\n",
        "  kucing_persia = Kucing(\"Puspus\", \"Persia\")\n",
        "\n",
        "  print(\"Info Hewan Umum:\")\n",
        "  hewan_umum.tampilkan_info()\n",
        "  hewan_umum.bersuara()\n",
        "  print(\"-\" * 20)\n",
        "\n",
        "  print(\"Info Kucing Persia : \")\n",
        "  kucing_persia.tampilkan_info()\n",
        "  kucing_persia.bersuara()\n",
        "\n"
      ],
      "metadata": {
        "colab": {
          "base_uri": "https://localhost:8080/"
        },
        "id": "PW7ZOsXOoNJt",
        "outputId": "f82329e7-b209-47aa-966d-700922f93c7d"
      },
      "execution_count": 16,
      "outputs": [
        {
          "output_type": "stream",
          "name": "stdout",
          "text": [
            "Info Hewan Umum:\n",
            "Ini adalah hewan bernama Makhluk\n",
            "Makhluk mengeluarkan suara generik\n",
            "--------------------\n",
            "Info Kucing Persia : \n",
            "Ini adalah hewan bernama Puspus\n",
            "Ini adalah kucing ras Persia\n",
            "Puspus (Kucing) mengeong: Meow!\n"
          ]
        }
      ]
    },
    {
      "cell_type": "markdown",
      "source": [
        "## PRAKTIKUM 4"
      ],
      "metadata": {
        "id": "U4KhR015tkQB"
      }
    },
    {
      "cell_type": "code",
      "source": [
        "class Organisme:\n",
        "  def __init__(self,nama) :\n",
        "    self.nama = nama\n",
        "    print(f\"Organisme '{self.nama}' diciptakan\")\n",
        "\n",
        "  def bernapas(self) :\n",
        "    print(f\"{self.nama} sedang bernapas.\")\n",
        "\n",
        "class Hewan(Organisme) :\n",
        "  def __init__ (self, nama, jenis_makanan):\n",
        "    super().__init__(nama)\n",
        "    self.jenis_makanan = jenis_makanan\n",
        "    print(f\"Hewan '{self.nama}' adalah {self.jenis_makanan}\")\n",
        "\n",
        "  def bergerak(self):\n",
        "    print(f\"{self.nama} sedang bergerak.\")\n",
        "\n",
        "class Mamalia(Hewan):\n",
        "  def __init__(self,nama, jenis_makanan, jumlah_kaki):\n",
        "    super().__init__(nama, jenis_makanan)\n",
        "    self.jumlah_kaki = jumlah_kaki\n",
        "    print(f\"Mamalia {self.nama} memiliki {self.jumlah_kaki}\")\n",
        "\n",
        "  def menyusui(self) :\n",
        "    print(f\"{self.nama} sedang menyusui\")\n",
        "\n",
        "if __name__ == \"__main__\" :\n",
        "  kucing = Mamalia(\"Kucing Persia\", \"Karnivora\", 4)\n",
        "  print(\"-\" * 20)\n",
        "\n",
        "  kucing.menyusui()\n",
        "\n",
        "  kucing.bergerak()\n",
        "\n",
        "  print(f\"Jenis makanan : {kucing.jenis_makanan}\")\n",
        "\n",
        "  kucing.bernapas()\n",
        "  print(f\"Nama organisme : {kucing.nama}\")"
      ],
      "metadata": {
        "id": "tu5lksJysFWj",
        "outputId": "a5ae3e98-8f7a-452e-ee10-93ca2e8288e0",
        "colab": {
          "base_uri": "https://localhost:8080/"
        }
      },
      "execution_count": 24,
      "outputs": [
        {
          "output_type": "stream",
          "name": "stdout",
          "text": [
            "Organisme 'Kucing Persia' diciptakan\n",
            "Hewan 'Kucing Persia' adalah Karnivora\n",
            "Mamalia Kucing Persia memiliki 4\n",
            "--------------------\n",
            "Kucing Persia sedang menyusui\n",
            "Kucing Persia sedang bergerak.\n",
            "Jenis makanan : Karnivora\n",
            "Kucing Persia sedang bernapas.\n",
            "Nama organisme : Kucing Persia\n"
          ]
        }
      ]
    },
    {
      "cell_type": "code",
      "source": [
        "kc"
      ],
      "metadata": {
        "id": "xRtgQ7xTto0v"
      },
      "execution_count": null,
      "outputs": []
    }
  ]
}