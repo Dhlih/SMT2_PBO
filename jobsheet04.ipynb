{
  "nbformat": 4,
  "nbformat_minor": 0,
  "metadata": {
    "colab": {
      "provenance": [],
      "authorship_tag": "ABX9TyOzr8tEytu1O4kojjXv9vAm",
      "include_colab_link": true
    },
    "kernelspec": {
      "name": "python3",
      "display_name": "Python 3"
    },
    "language_info": {
      "name": "python"
    }
  },
  "cells": [
    {
      "cell_type": "markdown",
      "metadata": {
        "id": "view-in-github",
        "colab_type": "text"
      },
      "source": [
        "<a href=\"https://colab.research.google.com/github/Dhlih/SMT2_PBO/blob/main/jobsheet04.ipynb\" target=\"_parent\"><img src=\"https://colab.research.google.com/assets/colab-badge.svg\" alt=\"Open In Colab\"/></a>"
      ]
    },
    {
      "cell_type": "markdown",
      "source": [
        "## PRAKTIKUM 1"
      ],
      "metadata": {
        "id": "G64EbXqEl_10"
      }
    },
    {
      "cell_type": "code",
      "source": [
        "!apt-get install -y locales\n",
        "!locale-gen id_ID.UTF-8\n",
        "!update-locale"
      ],
      "metadata": {
        "id": "JU4DaVYYFELA",
        "outputId": "1d241a3e-0ae1-430d-d444-d2a3750d8365",
        "colab": {
          "base_uri": "https://localhost:8080/"
        }
      },
      "execution_count": 48,
      "outputs": [
        {
          "output_type": "stream",
          "name": "stdout",
          "text": [
            "Reading package lists... Done\n",
            "Building dependency tree... Done\n",
            "Reading state information... Done\n",
            "locales is already the newest version (2.35-0ubuntu3.9).\n",
            "0 upgraded, 0 newly installed, 0 to remove and 34 not upgraded.\n",
            "Generating locales (this might take a while)...\n",
            "  id_ID.UTF-8... done\n",
            "Generation complete.\n"
          ]
        }
      ]
    },
    {
      "cell_type": "code",
      "source": [
        "class Kendaraan:\n",
        "  def __init__(self, merk):\n",
        "    self.merk = merk\n",
        "\n",
        "  def mulai_mesin(self):\n",
        "    print(f\"Mesin kendaraan {self.merk} dinyalakan\")\n",
        "\n",
        "\n",
        "class Mobil(Kendaraan):\n",
        "    def __init__(self, merk, warna):\n",
        "      self.merk = merk\n",
        "      self.warna = warna\n",
        "\n",
        "    def info_mobil(self):\n",
        "      print(f\"ini adalah mobil {self.merk} berwarna {self.merk}\")\n",
        "\n",
        "if __name__ == \"__main__\" :\n",
        "  mobil_tesla = Mobil(\"Tesla Model S\", \"Merah\")\n",
        "\n",
        "  mobil_tesla.info_mobil()\n",
        "\n",
        "  mobil_tesla.mulai_mesin()\n",
        "\n",
        "  print(f\"Merk mobil : {mobil_tesla.merk}\")\n"
      ],
      "metadata": {
        "colab": {
          "base_uri": "https://localhost:8080/"
        },
        "id": "JPm2Yx8pmM2e",
        "outputId": "caf054ed-09ad-4c70-88ce-ce851a2b5d25"
      },
      "execution_count": 3,
      "outputs": [
        {
          "output_type": "stream",
          "name": "stdout",
          "text": [
            "ini adalah mobil Tesla Model S berwarna Tesla Model S\n",
            "Mesin kendaraan Tesla Model S dinyalakan\n",
            "Merk mobil : Tesla Model S\n"
          ]
        }
      ]
    },
    {
      "cell_type": "markdown",
      "source": [
        "## PRAKTIKUM 2"
      ],
      "metadata": {
        "id": "kwf81kbYn2c2"
      }
    },
    {
      "cell_type": "code",
      "source": [
        "class Person:\n",
        "  def __init__(self, nama, usia):\n",
        "    print(f\"(Memanggil __init__ Person untuk {nama})\")\n",
        "    self.nama = nama\n",
        "    self.usia = usia\n",
        "\n",
        "  def perkenalan_diri(self):\n",
        "    print(f\"Halo, nama saya {self.nama}, usia saya {self.usia} tahun\")\n",
        "\n",
        "class Student(Person):\n",
        "  def __init__(self, nama, usia, student_id, jurusan):\n",
        "    print(f\"(Memanggil __init__ Student untuk {nama})\")\n",
        "    super().__init__(nama,usia)\n",
        "    self.student_id = student_id\n",
        "    self.jurusan = jurusan\n",
        "    print(f\"(Inisialisasi atribut Student selesai untuk {nama})\")\n",
        "\n",
        "  def info_akademik(self):\n",
        "    print(\"ID Mahasiswa : {self.student_id}\")\n",
        "    print(f\"Jurusan : {self.jurusan}\")\n",
        "\n",
        "  def perkenalan_diri(self):\n",
        "    super().perkenalan_diri()\n",
        "    print(f\"Saya adalah mahasiswa dengan ID {self.student_id}, jurusan {self.jurusan}\")\n",
        "\n",
        "if __name__ == \"__main__\" :\n",
        "  dosen = Person(\"Pak Anton\", 45)\n",
        "  print(\"-\" * 20)\n",
        "  dosen.perkenalan_diri()\n",
        "  print(\"\\n\" + \"=\" * 30 + \"\\n\")\n",
        "\n",
        "  mahasiswa = Student(\"Dewi\", 20, \"MSH001\", \"Teknik Komputer\")\n",
        "  print(\"-\" * 20)\n",
        "  mahasiswa.perkenalan_diri()\n",
        "  print(\"-\" * 20)\n",
        "  mahasiswa.info_akademik()\n",
        "\n",
        "  print(f\"\\nUsia mahasiswa {mahasiswa.nama}: {mahasiswa.usia}\")\n"
      ],
      "metadata": {
        "colab": {
          "base_uri": "https://localhost:8080/"
        },
        "id": "zksmdzufmdFW",
        "outputId": "e1a1340d-2e72-49a3-da77-fd3ef034e7a1"
      },
      "execution_count": 9,
      "outputs": [
        {
          "output_type": "stream",
          "name": "stdout",
          "text": [
            "(Memanggil __init__ Person untuk Pak Anton)\n",
            "--------------------\n",
            "Halo, nama saya Pak Anton, usia saya 45 tahun\n",
            "\n",
            "==============================\n",
            "\n",
            "(Memanggil __init__ Student untuk Dewi)\n",
            "(Memanggil __init__ Person untuk Dewi)\n",
            "(Inisialisasi atribut Student selesai untuk Dewi)\n",
            "--------------------\n",
            "Halo, nama saya Dewi, usia saya 20 tahun\n",
            "Saya adalah mahasiswa dengan ID MSH001, jurusan Teknik Komputer\n",
            "--------------------\n",
            "ID Mahasiswa : {self.student_id}\n",
            "Jurusan : Teknik Komputer\n",
            "\n",
            "Usia mahasiswa Dewi: 20\n"
          ]
        }
      ]
    },
    {
      "cell_type": "markdown",
      "source": [
        "## PRAKTIKUM 3"
      ],
      "metadata": {
        "id": "WvunnveksAcp"
      }
    },
    {
      "cell_type": "code",
      "source": [
        "class Hewan:\n",
        "  def __init__(self, nama):\n",
        "    self.nama = nama\n",
        "\n",
        "  def bersuara(self):\n",
        "    print(f\"{self.nama} mengeluarkan suara generik\")\n",
        "\n",
        "  def tampilkan_info(self):\n",
        "    print(f\"Ini adalah hewan bernama {self.nama}\")\n",
        "\n",
        "class Kucing(Hewan):\n",
        "  def __init__(self, nama, ras):\n",
        "    super().__init__(nama)\n",
        "    self.ras = ras\n",
        "\n",
        "  def bersuara(self):\n",
        "    print(f\"{self.nama} (Kucing) mengeong: Meow!\")\n",
        "\n",
        "  def tampilkan_info(self):\n",
        "    super().tampilkan_info()\n",
        "    print(f\"Ini adalah kucing ras {self.ras}\")\n",
        "\n",
        "if __name__ == \"__main__\" :\n",
        "  hewan_umum = Hewan(\"Makhluk\")\n",
        "  kucing_persia = Kucing(\"Puspus\", \"Persia\")\n",
        "\n",
        "  print(\"Info Hewan Umum:\")\n",
        "  hewan_umum.tampilkan_info()\n",
        "  hewan_umum.bersuara()\n",
        "  print(\"-\" * 20)\n",
        "\n",
        "  print(\"Info Kucing Persia : \")\n",
        "  kucing_persia.tampilkan_info()\n",
        "  kucing_persia.bersuara()\n",
        "\n"
      ],
      "metadata": {
        "colab": {
          "base_uri": "https://localhost:8080/"
        },
        "id": "PW7ZOsXOoNJt",
        "outputId": "f82329e7-b209-47aa-966d-700922f93c7d"
      },
      "execution_count": 16,
      "outputs": [
        {
          "output_type": "stream",
          "name": "stdout",
          "text": [
            "Info Hewan Umum:\n",
            "Ini adalah hewan bernama Makhluk\n",
            "Makhluk mengeluarkan suara generik\n",
            "--------------------\n",
            "Info Kucing Persia : \n",
            "Ini adalah hewan bernama Puspus\n",
            "Ini adalah kucing ras Persia\n",
            "Puspus (Kucing) mengeong: Meow!\n"
          ]
        }
      ]
    },
    {
      "cell_type": "markdown",
      "source": [
        "## PRAKTIKUM 4"
      ],
      "metadata": {
        "id": "U4KhR015tkQB"
      }
    },
    {
      "cell_type": "code",
      "source": [
        "class Organisme:\n",
        "  def __init__(self,nama) :\n",
        "    self.nama = nama\n",
        "    print(f\"Organisme '{self.nama}' diciptakan\")\n",
        "\n",
        "  def bernapas(self) :\n",
        "    print(f\"{self.nama} sedang bernapas.\")\n",
        "\n",
        "class Hewan(Organisme) :\n",
        "  def __init__ (self, nama, jenis_makanan):\n",
        "    super().__init__(nama)\n",
        "    self.jenis_makanan = jenis_makanan\n",
        "    print(f\"Hewan '{self.nama}' adalah {self.jenis_makanan}\")\n",
        "\n",
        "  def bergerak(self):\n",
        "    print(f\"{self.nama} sedang bergerak.\")\n",
        "\n",
        "class Mamalia(Hewan):\n",
        "  def __init__(self,nama, jenis_makanan, jumlah_kaki):\n",
        "    super().__init__(nama, jenis_makanan)\n",
        "    self.jumlah_kaki = jumlah_kaki\n",
        "    print(f\"Mamalia {self.nama} memiliki {self.jumlah_kaki}\")\n",
        "\n",
        "  def menyusui(self) :\n",
        "    print(f\"{self.nama} sedang menyusui\")\n",
        "\n",
        "if __name__ == \"__main__\" :\n",
        "  kucing = Mamalia(\"Kucing Persia\", \"Karnivora\", 4)\n",
        "  print(\"-\" * 20)\n",
        "\n",
        "  kucing.menyusui()\n",
        "\n",
        "  kucing.bergerak()\n",
        "\n",
        "  print(f\"Jenis makanan : {kucing.jenis_makanan}\")\n",
        "\n",
        "  kucing.bernapas()\n",
        "  print(f\"Nama organisme : {kucing.nama}\")"
      ],
      "metadata": {
        "colab": {
          "base_uri": "https://localhost:8080/"
        },
        "id": "tu5lksJysFWj",
        "outputId": "a5ae3e98-8f7a-452e-ee10-93ca2e8288e0"
      },
      "execution_count": 24,
      "outputs": [
        {
          "output_type": "stream",
          "name": "stdout",
          "text": [
            "Organisme 'Kucing Persia' diciptakan\n",
            "Hewan 'Kucing Persia' adalah Karnivora\n",
            "Mamalia Kucing Persia memiliki 4\n",
            "--------------------\n",
            "Kucing Persia sedang menyusui\n",
            "Kucing Persia sedang bergerak.\n",
            "Jenis makanan : Karnivora\n",
            "Kucing Persia sedang bernapas.\n",
            "Nama organisme : Kucing Persia\n"
          ]
        }
      ]
    },
    {
      "cell_type": "code",
      "source": [],
      "metadata": {
        "id": "xRtgQ7xTto0v"
      },
      "execution_count": null,
      "outputs": []
    },
    {
      "cell_type": "markdown",
      "source": [
        "## PRAKTIKUM 5"
      ],
      "metadata": {
        "id": "nirwx_Clwuel"
      }
    },
    {
      "cell_type": "code",
      "source": [
        "import locale\n",
        "\n",
        "try:\n",
        "  locale.setlocale(locale.LC_ALL, 'id_ID.UTF-8')\n",
        "except locale.Error:\n",
        "  print(\"Locale id_ID.UTF-8 tidak tersedia, nenggunakan locale.default.\")\n",
        "\n",
        "def format_rupiah (angka):\n",
        "  return locale.currency(angka, grouping=True, symbol=\"Rp\")\n",
        "\n",
        "class Pegawai:\n",
        "  def __init__ (self, nama, id_pegawai, gaji_pokok):\n",
        "    self.nama = nama\n",
        "    self.id_pegawai = id_pegawai\n",
        "    self.gaji_pokok = gaji_pokok\n",
        "\n",
        "  def hitung_gaji (self) :\n",
        "    return self.gaji_pokok\n",
        "\n",
        "  def tampilkan_info(self) :\n",
        "    print(f\"ID : {self.id_pegawai}, Nama : {self.nama}\")\n",
        "    print(f\"Gaji pokok : {format_rupiah(self.gaji_pokok)}\")\n",
        "\n",
        "class Manager (Pegawai) :\n",
        "  def __init__ (self, nama, id_pegawai, gaji_pokok, tunjangan_jabatan) :\n",
        "    super().__init__(nama, id_pegawai, gaji_pokok)\n",
        "    self.tunjangan_jabatan = tunjangan_jabatan\n",
        "\n",
        "  def hitung_gaji (self):\n",
        "    gaji_total = super().hitung_gaji() + self.tunjangan_jabatan\n",
        "    return gaji_total\n",
        "\n",
        "  def tampilkan_info (self) :\n",
        "    print( \"---- Info manager ---\")\n",
        "    super().tampilkan_info()\n",
        "    print(f\"Total gaji: {format_rupiah(self.hitung_gaji())}\")\n",
        "\n",
        "class StaffTeknis (Pegawai):\n",
        "  def __init__ (self, nama, id_pegawai, gaji_pokok, keahlian, bonus_keahlian):\n",
        "    super().__init__(nama, id_pegawai, gaji_pokok)\n",
        "    self.keahlian = keahlian\n",
        "    self.bonus_keahlian = bonus_keahlian\n",
        "\n",
        "  def hitung_gaji(self) :\n",
        "    gaji_total = super().hitung_gaji() + self.bonus_keahlian\n",
        "    return gaji_total\n",
        "\n",
        "  def tampilkan_info (self) :\n",
        "    print(\"---- Info Staff Teknis ---\")\n",
        "    super().tampilkan_info()\n",
        "    print(f\"Keahlian : {self.keahlian}\")\n",
        "    print(f\"Bonus keahlian : {format_rupiah(self.bonus_keahlian)}\")\n",
        "    print(f\"Total gaji : {format_rupiah(self.hitung_gaji())}\")\n",
        "\n",
        "if __name__ == \"__main__\"     :\n",
        "  manager1 =  Manager(\"Budi Santoso\", \"M001\", 10000000, 5000000)\n",
        "  staf1 = StaffTeknis(\"Citra Lestari\", \"S001\", 7000000, \"Python Programming\", 1500000)\n",
        "  pegawai_baru = Pegawai(\"Rian\", \"P005\", 5000000)\n",
        "\n",
        "  print(\"Menampilkan informasi pegawai : \")\n",
        "  manager1.tampilkan_info()\n",
        "  print(\"-\" * 20)\n",
        "  staf1.tampilkan_info()\n",
        "  print(\"-\" * 20)\n",
        "\n",
        "  print(\"--- Info PeGAWAI Baru ----\")\n",
        "  pegawai_baru.tampilkan_info()\n",
        "  print(f\"Total gaji : {format_rupiah(pegawai_baru.hitung_gaji())}\")\n",
        "  print(\"-\" * 20)\n",
        "\n",
        "\n",
        "\n",
        "\n"
      ],
      "metadata": {
        "colab": {
          "base_uri": "https://localhost:8080/",
          "height": 426
        },
        "id": "j_IUnOwYwvhU",
        "outputId": "145d690e-143c-44a8-ae49-40fd998a6df6"
      },
      "execution_count": 49,
      "outputs": [
        {
          "output_type": "stream",
          "name": "stdout",
          "text": [
            "Locale id_ID.UTF-8 tidak tersedia, nenggunakan locale.default.\n",
            "Menampilkan informasi pegawai : \n",
            "---- Info manager ---\n",
            "ID : M001, Nama : Budi Santoso\n"
          ]
        },
        {
          "output_type": "error",
          "ename": "ValueError",
          "evalue": "Currency formatting is not possible using the 'C' locale.",
          "traceback": [
            "\u001b[0;31m---------------------------------------------------------------------------\u001b[0m",
            "\u001b[0;31mValueError\u001b[0m                                Traceback (most recent call last)",
            "\u001b[0;32m<ipython-input-49-06d52434a943>\u001b[0m in \u001b[0;36m<cell line: 0>\u001b[0;34m()\u001b[0m\n\u001b[1;32m     59\u001b[0m \u001b[0;34m\u001b[0m\u001b[0m\n\u001b[1;32m     60\u001b[0m   \u001b[0mprint\u001b[0m\u001b[0;34m(\u001b[0m\u001b[0;34m\"Menampilkan informasi pegawai : \"\u001b[0m\u001b[0;34m)\u001b[0m\u001b[0;34m\u001b[0m\u001b[0;34m\u001b[0m\u001b[0m\n\u001b[0;32m---> 61\u001b[0;31m   \u001b[0mmanager1\u001b[0m\u001b[0;34m.\u001b[0m\u001b[0mtampilkan_info\u001b[0m\u001b[0;34m(\u001b[0m\u001b[0;34m)\u001b[0m\u001b[0;34m\u001b[0m\u001b[0;34m\u001b[0m\u001b[0m\n\u001b[0m\u001b[1;32m     62\u001b[0m   \u001b[0mprint\u001b[0m\u001b[0;34m(\u001b[0m\u001b[0;34m\"-\"\u001b[0m \u001b[0;34m*\u001b[0m \u001b[0;36m20\u001b[0m\u001b[0;34m)\u001b[0m\u001b[0;34m\u001b[0m\u001b[0;34m\u001b[0m\u001b[0m\n\u001b[1;32m     63\u001b[0m   \u001b[0mstaf1\u001b[0m\u001b[0;34m.\u001b[0m\u001b[0mtampilkan_info\u001b[0m\u001b[0;34m(\u001b[0m\u001b[0;34m)\u001b[0m\u001b[0;34m\u001b[0m\u001b[0;34m\u001b[0m\u001b[0m\n",
            "\u001b[0;32m<ipython-input-49-06d52434a943>\u001b[0m in \u001b[0;36mtampilkan_info\u001b[0;34m(self)\u001b[0m\n\u001b[1;32m     33\u001b[0m   \u001b[0;32mdef\u001b[0m \u001b[0mtampilkan_info\u001b[0m \u001b[0;34m(\u001b[0m\u001b[0mself\u001b[0m\u001b[0;34m)\u001b[0m \u001b[0;34m:\u001b[0m\u001b[0;34m\u001b[0m\u001b[0;34m\u001b[0m\u001b[0m\n\u001b[1;32m     34\u001b[0m     \u001b[0mprint\u001b[0m\u001b[0;34m(\u001b[0m \u001b[0;34m\"---- Info manager ---\"\u001b[0m\u001b[0;34m)\u001b[0m\u001b[0;34m\u001b[0m\u001b[0;34m\u001b[0m\u001b[0m\n\u001b[0;32m---> 35\u001b[0;31m     \u001b[0msuper\u001b[0m\u001b[0;34m(\u001b[0m\u001b[0;34m)\u001b[0m\u001b[0;34m.\u001b[0m\u001b[0mtampilkan_info\u001b[0m\u001b[0;34m(\u001b[0m\u001b[0;34m)\u001b[0m\u001b[0;34m\u001b[0m\u001b[0;34m\u001b[0m\u001b[0m\n\u001b[0m\u001b[1;32m     36\u001b[0m     \u001b[0mprint\u001b[0m\u001b[0;34m(\u001b[0m\u001b[0;34mf\"Total gaji: {format_rupiah(self.hitung_gaji())}\"\u001b[0m\u001b[0;34m)\u001b[0m\u001b[0;34m\u001b[0m\u001b[0;34m\u001b[0m\u001b[0m\n\u001b[1;32m     37\u001b[0m \u001b[0;34m\u001b[0m\u001b[0m\n",
            "\u001b[0;32m<ipython-input-49-06d52434a943>\u001b[0m in \u001b[0;36mtampilkan_info\u001b[0;34m(self)\u001b[0m\n\u001b[1;32m     20\u001b[0m   \u001b[0;32mdef\u001b[0m \u001b[0mtampilkan_info\u001b[0m\u001b[0;34m(\u001b[0m\u001b[0mself\u001b[0m\u001b[0;34m)\u001b[0m \u001b[0;34m:\u001b[0m\u001b[0;34m\u001b[0m\u001b[0;34m\u001b[0m\u001b[0m\n\u001b[1;32m     21\u001b[0m     \u001b[0mprint\u001b[0m\u001b[0;34m(\u001b[0m\u001b[0;34mf\"ID : {self.id_pegawai}, Nama : {self.nama}\"\u001b[0m\u001b[0;34m)\u001b[0m\u001b[0;34m\u001b[0m\u001b[0;34m\u001b[0m\u001b[0m\n\u001b[0;32m---> 22\u001b[0;31m     \u001b[0mprint\u001b[0m\u001b[0;34m(\u001b[0m\u001b[0;34mf\"Gaji pokok : {format_rupiah(self.gaji_pokok)}\"\u001b[0m\u001b[0;34m)\u001b[0m\u001b[0;34m\u001b[0m\u001b[0;34m\u001b[0m\u001b[0m\n\u001b[0m\u001b[1;32m     23\u001b[0m \u001b[0;34m\u001b[0m\u001b[0m\n\u001b[1;32m     24\u001b[0m \u001b[0;32mclass\u001b[0m \u001b[0mManager\u001b[0m \u001b[0;34m(\u001b[0m\u001b[0mPegawai\u001b[0m\u001b[0;34m)\u001b[0m \u001b[0;34m:\u001b[0m\u001b[0;34m\u001b[0m\u001b[0;34m\u001b[0m\u001b[0m\n",
            "\u001b[0;32m<ipython-input-49-06d52434a943>\u001b[0m in \u001b[0;36mformat_rupiah\u001b[0;34m(angka)\u001b[0m\n\u001b[1;32m      7\u001b[0m \u001b[0;34m\u001b[0m\u001b[0m\n\u001b[1;32m      8\u001b[0m \u001b[0;32mdef\u001b[0m \u001b[0mformat_rupiah\u001b[0m \u001b[0;34m(\u001b[0m\u001b[0mangka\u001b[0m\u001b[0;34m)\u001b[0m\u001b[0;34m:\u001b[0m\u001b[0;34m\u001b[0m\u001b[0;34m\u001b[0m\u001b[0m\n\u001b[0;32m----> 9\u001b[0;31m   \u001b[0;32mreturn\u001b[0m \u001b[0mlocale\u001b[0m\u001b[0;34m.\u001b[0m\u001b[0mcurrency\u001b[0m\u001b[0;34m(\u001b[0m\u001b[0mangka\u001b[0m\u001b[0;34m,\u001b[0m \u001b[0mgrouping\u001b[0m\u001b[0;34m=\u001b[0m\u001b[0;32mTrue\u001b[0m\u001b[0;34m,\u001b[0m \u001b[0msymbol\u001b[0m\u001b[0;34m=\u001b[0m\u001b[0;34m\"Rp\"\u001b[0m\u001b[0;34m)\u001b[0m\u001b[0;34m\u001b[0m\u001b[0;34m\u001b[0m\u001b[0m\n\u001b[0m\u001b[1;32m     10\u001b[0m \u001b[0;34m\u001b[0m\u001b[0m\n\u001b[1;32m     11\u001b[0m \u001b[0;32mclass\u001b[0m \u001b[0mPegawai\u001b[0m\u001b[0;34m:\u001b[0m\u001b[0;34m\u001b[0m\u001b[0;34m\u001b[0m\u001b[0m\n",
            "\u001b[0;32m/usr/lib/python3.11/locale.py\u001b[0m in \u001b[0;36mcurrency\u001b[0;34m(val, symbol, grouping, international)\u001b[0m\n\u001b[1;32m    271\u001b[0m     \u001b[0mdigits\u001b[0m \u001b[0;34m=\u001b[0m \u001b[0mconv\u001b[0m\u001b[0;34m[\u001b[0m\u001b[0minternational\u001b[0m \u001b[0;32mand\u001b[0m \u001b[0;34m'int_frac_digits'\u001b[0m \u001b[0;32mor\u001b[0m \u001b[0;34m'frac_digits'\u001b[0m\u001b[0;34m]\u001b[0m\u001b[0;34m\u001b[0m\u001b[0;34m\u001b[0m\u001b[0m\n\u001b[1;32m    272\u001b[0m     \u001b[0;32mif\u001b[0m \u001b[0mdigits\u001b[0m \u001b[0;34m==\u001b[0m \u001b[0;36m127\u001b[0m\u001b[0;34m:\u001b[0m\u001b[0;34m\u001b[0m\u001b[0;34m\u001b[0m\u001b[0m\n\u001b[0;32m--> 273\u001b[0;31m         raise ValueError(\"Currency formatting is not possible using \"\n\u001b[0m\u001b[1;32m    274\u001b[0m                          \"the 'C' locale.\")\n\u001b[1;32m    275\u001b[0m \u001b[0;34m\u001b[0m\u001b[0m\n",
            "\u001b[0;31mValueError\u001b[0m: Currency formatting is not possible using the 'C' locale."
          ]
        }
      ]
    },
    {
      "cell_type": "markdown",
      "source": [
        "## PRAKTIKUM 6"
      ],
      "metadata": {
        "id": "Vpge7Q7j40RT"
      }
    },
    {
      "cell_type": "code",
      "source": [
        "class BentukGeometri:\n",
        "  def __init__ (self, nama_bentuk):\n",
        "    self.nama = nama_bentuk\n",
        "  def tampilkan_nama(self):\n",
        "    print(f\"Ini adalah bentuk : {self.nama}\")\n",
        "  def hitung_luas(self):\n",
        "    print(f\"Luas {self.nama } tidak dapat dihitung (generik)\")\n",
        "\n",
        "class PersegiPanjang (BentukGeometri) :\n",
        "    def __init__(self, panjang, lebar) :\n",
        "      super().__init__(\"Persegi Panjang\")\n",
        "      self.panjang = panjang\n",
        "      self.lebar = lebar\n",
        "    def hitung_luas(self) :\n",
        "      luas = self.panjang * self.lebar\n",
        "      print(f\"Luas {self.nama} : {luas}\")\n",
        "\n",
        "class Segitiga(BentukGeometri) :\n",
        "  def __init__(self, alas, tinggi) :\n",
        "    super().__init__(\"Segitiga\")\n",
        "    self.alas = alas\n",
        "    self.tinggi = tinggi\n",
        "  def hitung_luas(self) :\n",
        "    luas = 0.5 * self.alas * self.tinggi\n",
        "    print(f\"Luas {self.nama} : {luas}\")\n",
        "\n",
        "def proses_bentuk(bentuk):\n",
        "    print(f\"\\nMemproses objek : {type(bentuk)}\")\n",
        "    if isinstance(bentuk, BentukGeometri):\n",
        "      bentuk.tampilkan_nama()\n",
        "      print(\"Objek ini adalah instance dari BentukGeometri (atau turunannya)\")\n",
        "\n",
        "      if isinstance (bentuk, PersegiPanjang):\n",
        "        print(\"-> Objek ini juga isntance dari PersegiPanjang\")\n",
        "      elif isinstance (bentuk, Segitiga):\n",
        "        print(\"-> Objek ini juga instance dari Segitiga\")\n",
        "\n",
        "    else:\n",
        "      print(\"Objek ini BUKAN instance dari BentukGeometri\")\n",
        "\n",
        "    if isinstance(bentuk, str):\n",
        "      print(\"Objek ini adalah string.\")\n",
        "\n",
        "if __name__ == \"__main__\" :\n",
        "  pp = PersegiPanjang(4,3)\n",
        "  seg = Segitiga(5,2)\n",
        "\n",
        "  bg = BentukGeometri(\"Lingkaran\")\n",
        "  teks = \"Ini string\"\n",
        "\n",
        "  daftar_objek = [pp, seg, bg, teks]\n",
        "\n",
        "  for obj in daftar_objek:\n",
        "    proses_bentuk(obj)\n",
        "\n",
        "\n"
      ],
      "metadata": {
        "colab": {
          "base_uri": "https://localhost:8080/"
        },
        "id": "UCLW_Yaf44VM",
        "outputId": "007caa78-e155-4cef-ad65-f1f50545491f"
      },
      "execution_count": 38,
      "outputs": [
        {
          "output_type": "stream",
          "name": "stdout",
          "text": [
            "\n",
            "Memproses objek : <class '__main__.PersegiPanjang'>\n",
            "Ini adalah bentuk : Persegi Panjang\n",
            "Objek ini adalah instance dari BentukGeometri (atau turunannya)\n",
            "-> Objek ini juga isntance dari PersegiPanjang\n",
            "\n",
            "Memproses objek : <class '__main__.Segitiga'>\n",
            "Ini adalah bentuk : Segitiga\n",
            "Objek ini adalah instance dari BentukGeometri (atau turunannya)\n",
            "-> Objek ini juga instance dari Segitiga\n",
            "\n",
            "Memproses objek : <class '__main__.BentukGeometri'>\n",
            "Ini adalah bentuk : Lingkaran\n",
            "Objek ini adalah instance dari BentukGeometri (atau turunannya)\n",
            "\n",
            "Memproses objek : <class 'str'>\n",
            "Objek ini BUKAN instance dari BentukGeometri\n",
            "Objek ini adalah string.\n"
          ]
        }
      ]
    },
    {
      "cell_type": "markdown",
      "source": [
        "## PENUGASAN"
      ],
      "metadata": {
        "id": "8KL8fpuU_vJ0"
      }
    },
    {
      "cell_type": "code",
      "source": [
        "class Mahasiswa:\n",
        "  def __init__(self, nama, nim, ipk):\n",
        "    self.nama = nama\n",
        "    self.nim = nim\n",
        "    self.ipk = ipk\n",
        "\n",
        "  def tampilkan_info(self):\n",
        "    print(f\"Nama : {self.nama} \\nNIM : {self.nim} \\nIPK : {self.ipk}\")\n",
        "\n",
        "  def hitung_predikat(self):\n",
        "    if self.ipk >= 3.5:\n",
        "      print(f\"Saudara {self.nama} lulus dengan predikat terpuji\")\n",
        "    elif self.ipk >= 3:\n",
        "      print(f\"Saudara {self.nama} lulus dengan predikat sangat memuaskan\")\n",
        "    elif self.ipk >= 2.5:\n",
        "      print(f\"Saudara {self.nama} lulus dengan predikat memuaskan\")\n",
        "    else:\n",
        "      print(f\"Saudara {self.nama} lulus dengan predikat cukup\")\n",
        "\n",
        "class MahasiswaSarjana(Mahasiswa):\n",
        "  def __init__(self, nama, nim, ipk, semester, sks_lulus):\n",
        "    super().__init__(nama, nim, ipk)\n",
        "    self.semester = semester\n",
        "    self.sks_lulus = sks_lulus\n",
        "\n",
        "  def tampilkan_info(self):\n",
        "    super().tampilkan_info()\n",
        "    print(f\"Semester : {self.semester} \\nSKS Lulus : {self.sks_lulus}\")\n",
        "\n",
        "class MahasiswaMagister(Mahasiswa):\n",
        "  def __init__(self, nama, nim, ipk, judul_tesis, nama_pembimbing):\n",
        "    super().__init__(nama, nim, ipk)\n",
        "    self.judul_tesis = judul_tesis\n",
        "    self.nama_pembimbing = nama_pembimbing\n",
        "\n",
        "  def tampilkan_info(self):\n",
        "    super().tampilkan_info()\n",
        "    print(f\"Judul Tesis : {self.judul_tesis} \\nNama Pembimbing : {self.nama_pembimbing}\")\n",
        "\n",
        "if __name__ == \"__main__\" :\n",
        "  Yusuf_Fadhlih_Firmansyah = MahasiswaSarjana(\"Yusuf Fadhlih Firmansyah\", \"4.33.24.1.26\", 3.9, 2, 144)\n",
        "  Azka_Yudia_Febriano = MahasiswaMagister(\"Azka Yudia Febriano\", \"4.33.24.1.20\", \"4.0\", \"Performa next js\", \"Pak Budi\")\n",
        "\n",
        "  Yusuf_Fadhlih_Firmansyah.hitung_predikat()\n",
        "  Yusuf_Fadhlih_Firmansyah.tampilkan_info()\n",
        "  print(\"-\" * 20)\n",
        "  Azka_Yudia_Febriano.tampilkan_info()\n",
        "\n",
        "\n",
        "\n"
      ],
      "metadata": {
        "colab": {
          "base_uri": "https://localhost:8080/"
        },
        "id": "smH1XuC5_we4",
        "outputId": "a483eb73-ba0a-49fe-c954-11602a5fd657"
      },
      "execution_count": 47,
      "outputs": [
        {
          "output_type": "stream",
          "name": "stdout",
          "text": [
            "Saudara Yusuf Fadhlih Firmansyah lulus dengan predikat terpuji\n",
            "Nama : Yusuf Fadhlih Firmansyah \n",
            "NIM : 4.33.24.1.26 \n",
            "IPK : 3.9\n",
            "Semester : 2 \n",
            "SKS Lulus : 144\n",
            "--------------------\n",
            "Nama : Azka Yudia Febriano \n",
            "NIM : 4.33.24.1.20 \n",
            "IPK : 4.0\n",
            "Judul Tesis : Performa next js \n",
            "Nama Pembimbing : Pak Budi\n"
          ]
        }
      ]
    },
    {
      "cell_type": "code",
      "source": [],
      "metadata": {
        "id": "wC7ytCCaAvJH"
      },
      "execution_count": null,
      "outputs": []
    }
  ]
}