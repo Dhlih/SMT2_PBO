{
  "nbformat": 4,
  "nbformat_minor": 0,
  "metadata": {
    "colab": {
      "provenance": [],
      "authorship_tag": "ABX9TyMMdrEaHt3CsjxCL65PIG5J",
      "include_colab_link": true
    },
    "kernelspec": {
      "name": "python3",
      "display_name": "Python 3"
    },
    "language_info": {
      "name": "python"
    }
  },
  "cells": [
    {
      "cell_type": "markdown",
      "metadata": {
        "id": "view-in-github",
        "colab_type": "text"
      },
      "source": [
        "<a href=\"https://colab.research.google.com/github/Dhlih/SMT2_PBO/blob/main/jobsheet04.ipynb\" target=\"_parent\"><img src=\"https://colab.research.google.com/assets/colab-badge.svg\" alt=\"Open In Colab\"/></a>"
      ]
    },
    {
      "cell_type": "markdown",
      "source": [
        "## PRAKTIKUM 1"
      ],
      "metadata": {
        "id": "G64EbXqEl_10"
      }
    },
    {
      "cell_type": "code",
      "source": [
        "class Kendaraan:\n",
        "  def __init__(self, merk):\n",
        "    self.merk = merk\n",
        "\n",
        "  def mulai_mesin(self):\n",
        "    print(f\"Mesin kendaraan {self.merk} dinyalakan\")\n",
        "\n",
        "\n",
        "class Mobil(Kendaraan):\n",
        "    def __init__(self, merk, warna):\n",
        "      self.merk = merk\n",
        "      self.warna = warna\n",
        "\n",
        "    def info_mobil(self):\n",
        "      print(f\"ini adalah mobil {self.merk} berwarna {self.merk}\")\n",
        "\n",
        "if __name__ == \"__main__\" :\n",
        "  mobil_tesla = Mobil(\"Tesla Model S\", \"Merah\")\n",
        "\n",
        "  mobil_tesla.info_mobil()\n",
        "\n",
        "  mobil_tesla.mulai_mesin()\n",
        "\n",
        "  print(f\"Merk mobil : {mobil_tesla.merk}\")\n"
      ],
      "metadata": {
        "id": "JPm2Yx8pmM2e",
        "outputId": "caf054ed-09ad-4c70-88ce-ce851a2b5d25",
        "colab": {
          "base_uri": "https://localhost:8080/"
        }
      },
      "execution_count": 3,
      "outputs": [
        {
          "output_type": "stream",
          "name": "stdout",
          "text": [
            "ini adalah mobil Tesla Model S berwarna Tesla Model S\n",
            "Mesin kendaraan Tesla Model S dinyalakan\n",
            "Merk mobil : Tesla Model S\n"
          ]
        }
      ]
    },
    {
      "cell_type": "markdown",
      "source": [
        "## PRAKTIKUM 2"
      ],
      "metadata": {
        "id": "kwf81kbYn2c2"
      }
    },
    {
      "cell_type": "code",
      "source": [
        "class Person:\n",
        "  def __init__(self, nama, usia):\n",
        "    print(f\"(Memanggil __init__ Person untuk {nama})\")\n",
        "    self.nama = nama\n",
        "    self.usia = usia\n",
        "\n",
        "  def perkenalan_diri(self):\n",
        "    print(f\"Halo, nama saya {self.nama}, usia saya {self.usia} tahun\")\n",
        "\n",
        "class Student(Person):\n",
        "  def __init__(self, nama, usia, student_id, jurusan):\n",
        "    print(f\"(Memanggil __init__ Student untuk {nama})\")\n",
        "    super().__init__(nama,usia)\n",
        "    self.student_id = student_id\n",
        "    self.jurusan = jurusan\n",
        "    print(f\"(Inisialisasi atribut Student selesai untuk {nama})\")\n",
        "\n",
        "  def info_akademik(self):\n",
        "    print(\"ID Mahasiswa : {self.student_id}\")\n",
        "    print(f\"Jurusan : {self.jurusan}\")\n",
        "\n",
        "  def perkenalan_diri(self):\n",
        "    super().perkenalan_diri()\n",
        "    print(f\"Saya adalah mahasiswa dengan ID {self.student_id}, jurusan {self.jurusan}\")\n",
        "\n",
        "if __name__ == \"__main__\" :\n",
        "  dosen = Person(\"Pak Anton\", 45)\n",
        "  # print(\"-\" * 20)\n",
        "  # dosen.perkenalan_diri()\n",
        "  # print(\"\\n\" + \"=\" * 30 + \"\\n\")\n",
        "\n",
        "  mahasiswa = Student(\"Dewi\", 20, \"MSH001\", \"Teknik Komputer\")\n",
        "  # print(\"-\" * 20)\n",
        "  # mahasiswa.perkenalan_diri()\n",
        "  # print(\"-\" * 20)\n",
        "  # mahasiswa.info_akademik()\n",
        "\n",
        "  # print(f\"\\nUsia mahasiswa {mahasiswa.nama}: {mahasiswa.usia}\")\n"
      ],
      "metadata": {
        "id": "zksmdzufmdFW",
        "outputId": "e7788d79-24d8-4555-8001-46b3786f0ab7",
        "colab": {
          "base_uri": "https://localhost:8080/"
        }
      },
      "execution_count": 7,
      "outputs": [
        {
          "output_type": "stream",
          "name": "stdout",
          "text": [
            "(Memanggil __init__ Person untuk Pak Anton)\n",
            "--------------------\n",
            "Halo, nama saya Pak Anton, usia saya 45 tahun\n",
            "\n",
            "==============================\n",
            "\n",
            "(Memanggil __init__ Student untuk Dewi)\n",
            "(Memanggil __init__ Person untuk Dewi)\n",
            "(Inisialisasi atribut Student selesai untuk Dewi)\n",
            "--------------------\n",
            "Halo, nama saya Dewi, usia saya 20 tahun\n",
            "Saya adalah mahasiswa dengan ID MSH001, jurusan Teknik Komputer\n",
            "--------------------\n",
            "ID Mahasiswa : {self.student_id}\n",
            "Jurusan : Teknik Komputer\n",
            "\n",
            "Usia mahasiswa Dewi: 20\n"
          ]
        }
      ]
    },
    {
      "cell_type": "code",
      "source": [],
      "metadata": {
        "id": "PW7ZOsXOoNJt"
      },
      "execution_count": null,
      "outputs": []
    }
  ]
}