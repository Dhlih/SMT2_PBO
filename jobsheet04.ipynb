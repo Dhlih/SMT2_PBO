{
  "nbformat": 4,
  "nbformat_minor": 0,
  "metadata": {
    "colab": {
      "provenance": [],
      "authorship_tag": "ABX9TyMdr1/FYqUAC/L1Phs11vbk",
      "include_colab_link": true
    },
    "kernelspec": {
      "name": "python3",
      "display_name": "Python 3"
    },
    "language_info": {
      "name": "python"
    }
  },
  "cells": [
    {
      "cell_type": "markdown",
      "metadata": {
        "id": "view-in-github",
        "colab_type": "text"
      },
      "source": [
        "<a href=\"https://colab.research.google.com/github/Dhlih/SMT2_PBO/blob/main/jobsheet04.ipynb\" target=\"_parent\"><img src=\"https://colab.research.google.com/assets/colab-badge.svg\" alt=\"Open In Colab\"/></a>"
      ]
    },
    {
      "cell_type": "markdown",
      "source": [
        "## PRAKTIKUM 1"
      ],
      "metadata": {
        "id": "G64EbXqEl_10"
      }
    },
    {
      "cell_type": "code",
      "source": [
        "!apt-get install -y locales\n",
        "!locale-gen id_ID.UTF-8\n",
        "!update-locale"
      ],
      "metadata": {
        "id": "JU4DaVYYFELA",
        "outputId": "dde0ef2e-6fd8-4055-86ad-4f078070be31",
        "colab": {
          "base_uri": "https://localhost:8080/"
        }
      },
      "execution_count": 1,
      "outputs": [
        {
          "output_type": "stream",
          "name": "stdout",
          "text": [
            "Reading package lists... Done\n",
            "Building dependency tree... Done\n",
            "Reading state information... Done\n",
            "locales is already the newest version (2.35-0ubuntu3.9).\n",
            "0 upgraded, 0 newly installed, 0 to remove and 34 not upgraded.\n",
            "Generating locales (this might take a while)...\n",
            "  id_ID.UTF-8... done\n",
            "Generation complete.\n"
          ]
        }
      ]
    },
    {
      "cell_type": "code",
      "source": [
        "class Kendaraan:\n",
        "  def __init__(self, merk):\n",
        "    self.merk = merk\n",
        "\n",
        "  def mulai_mesin(self):\n",
        "    print(f\"Mesin kendaraan {self.merk} dinyalakan\")\n",
        "\n",
        "\n",
        "class Mobil(Kendaraan):\n",
        "    def __init__(self, merk, warna):\n",
        "      self.merk = merk\n",
        "      self.warna = warna\n",
        "\n",
        "    def info_mobil(self):\n",
        "      print(f\"ini adalah mobil {self.merk} berwarna {self.merk}\")\n",
        "\n",
        "if __name__ == \"__main__\" :\n",
        "  mobil_tesla = Mobil(\"Tesla Model S\", \"Merah\")\n",
        "\n",
        "  mobil_tesla.info_mobil()\n",
        "\n",
        "  mobil_tesla.mulai_mesin()\n",
        "\n",
        "  print(f\"Merk mobil : {mobil_tesla.merk}\")\n"
      ],
      "metadata": {
        "colab": {
          "base_uri": "https://localhost:8080/"
        },
        "id": "JPm2Yx8pmM2e",
        "outputId": "5b75474f-ac34-4139-bbdd-2af5bac0f7d8"
      },
      "execution_count": 2,
      "outputs": [
        {
          "output_type": "stream",
          "name": "stdout",
          "text": [
            "ini adalah mobil Tesla Model S berwarna Tesla Model S\n",
            "Mesin kendaraan Tesla Model S dinyalakan\n",
            "Merk mobil : Tesla Model S\n"
          ]
        }
      ]
    },
    {
      "cell_type": "markdown",
      "source": [
        "## PRAKTIKUM 2"
      ],
      "metadata": {
        "id": "kwf81kbYn2c2"
      }
    },
    {
      "cell_type": "code",
      "source": [
        "class Person:\n",
        "  def __init__(self, nama, usia):\n",
        "    print(f\"(Memanggil __init__ Person untuk {nama})\")\n",
        "    self.nama = nama\n",
        "    self.usia = usia\n",
        "\n",
        "  def perkenalan_diri(self):\n",
        "    print(f\"Halo, nama saya {self.nama}, usia saya {self.usia} tahun\")\n",
        "\n",
        "class Student(Person):\n",
        "  def __init__(self, nama, usia, student_id, jurusan):\n",
        "    print(f\"(Memanggil __init__ Student untuk {nama})\")\n",
        "    super().__init__(nama,usia)\n",
        "    self.student_id = student_id\n",
        "    self.jurusan = jurusan\n",
        "    print(f\"(Inisialisasi atribut Student selesai untuk {nama})\")\n",
        "\n",
        "  def info_akademik(self):\n",
        "    print(\"ID Mahasiswa : {self.student_id}\")\n",
        "    print(f\"Jurusan : {self.jurusan}\")\n",
        "\n",
        "  def perkenalan_diri(self):\n",
        "    super().perkenalan_diri()\n",
        "    print(f\"Saya adalah mahasiswa dengan ID {self.student_id}, jurusan {self.jurusan}\")\n",
        "\n",
        "if __name__ == \"__main__\" :\n",
        "  dosen = Person(\"Pak Anton\", 45)\n",
        "  print(\"-\" * 20)\n",
        "  dosen.perkenalan_diri()\n",
        "  print(\"\\n\" + \"=\" * 30 + \"\\n\")\n",
        "\n",
        "  mahasiswa = Student(\"Dewi\", 20, \"MSH001\", \"Teknik Komputer\")\n",
        "  print(\"-\" * 20)\n",
        "  mahasiswa.perkenalan_diri()\n",
        "  print(\"-\" * 20)\n",
        "  mahasiswa.info_akademik()\n",
        "\n",
        "  print(f\"\\nUsia mahasiswa {mahasiswa.nama}: {mahasiswa.usia}\")\n"
      ],
      "metadata": {
        "colab": {
          "base_uri": "https://localhost:8080/"
        },
        "id": "zksmdzufmdFW",
        "outputId": "d9b7fb5f-b6df-474d-dbfc-25838909dbca"
      },
      "execution_count": 3,
      "outputs": [
        {
          "output_type": "stream",
          "name": "stdout",
          "text": [
            "(Memanggil __init__ Person untuk Pak Anton)\n",
            "--------------------\n",
            "Halo, nama saya Pak Anton, usia saya 45 tahun\n",
            "\n",
            "==============================\n",
            "\n",
            "(Memanggil __init__ Student untuk Dewi)\n",
            "(Memanggil __init__ Person untuk Dewi)\n",
            "(Inisialisasi atribut Student selesai untuk Dewi)\n",
            "--------------------\n",
            "Halo, nama saya Dewi, usia saya 20 tahun\n",
            "Saya adalah mahasiswa dengan ID MSH001, jurusan Teknik Komputer\n",
            "--------------------\n",
            "ID Mahasiswa : {self.student_id}\n",
            "Jurusan : Teknik Komputer\n",
            "\n",
            "Usia mahasiswa Dewi: 20\n"
          ]
        }
      ]
    },
    {
      "cell_type": "markdown",
      "source": [
        "## PRAKTIKUM 3"
      ],
      "metadata": {
        "id": "WvunnveksAcp"
      }
    },
    {
      "cell_type": "code",
      "source": [
        "class Hewan:\n",
        "  def __init__(self, nama):\n",
        "    self.nama = nama\n",
        "\n",
        "  def bersuara(self):\n",
        "    print(f\"{self.nama} mengeluarkan suara generik\")\n",
        "\n",
        "  def tampilkan_info(self):\n",
        "    print(f\"Ini adalah hewan bernama {self.nama}\")\n",
        "\n",
        "class Kucing(Hewan):\n",
        "  def __init__(self, nama, ras):\n",
        "    super().__init__(nama)\n",
        "    self.ras = ras\n",
        "\n",
        "  def bersuara(self):\n",
        "    print(f\"{self.nama} (Kucing) mengeong: Meow!\")\n",
        "\n",
        "  def tampilkan_info(self):\n",
        "    super().tampilkan_info()\n",
        "    print(f\"Ini adalah kucing ras {self.ras}\")\n",
        "\n",
        "if __name__ == \"__main__\" :\n",
        "  hewan_umum = Hewan(\"Makhluk\")\n",
        "  kucing_persia = Kucing(\"Puspus\", \"Persia\")\n",
        "\n",
        "  print(\"Info Hewan Umum:\")\n",
        "  hewan_umum.tampilkan_info()\n",
        "  hewan_umum.bersuara()\n",
        "  print(\"-\" * 20)\n",
        "\n",
        "  print(\"Info Kucing Persia : \")\n",
        "  kucing_persia.tampilkan_info()\n",
        "  kucing_persia.bersuara()\n",
        "\n"
      ],
      "metadata": {
        "colab": {
          "base_uri": "https://localhost:8080/"
        },
        "id": "PW7ZOsXOoNJt",
        "outputId": "a26f4a4e-5ebc-4485-c519-0c3ed8986aa2"
      },
      "execution_count": 4,
      "outputs": [
        {
          "output_type": "stream",
          "name": "stdout",
          "text": [
            "Info Hewan Umum:\n",
            "Ini adalah hewan bernama Makhluk\n",
            "Makhluk mengeluarkan suara generik\n",
            "--------------------\n",
            "Info Kucing Persia : \n",
            "Ini adalah hewan bernama Puspus\n",
            "Ini adalah kucing ras Persia\n",
            "Puspus (Kucing) mengeong: Meow!\n"
          ]
        }
      ]
    },
    {
      "cell_type": "markdown",
      "source": [
        "## PRAKTIKUM 4"
      ],
      "metadata": {
        "id": "U4KhR015tkQB"
      }
    },
    {
      "cell_type": "code",
      "source": [
        "class Organisme:\n",
        "  def __init__(self,nama) :\n",
        "    self.nama = nama\n",
        "    print(f\"Organisme '{self.nama}' diciptakan\")\n",
        "\n",
        "  def bernapas(self) :\n",
        "    print(f\"{self.nama} sedang bernapas.\")\n",
        "\n",
        "class Hewan(Organisme) :\n",
        "  def __init__ (self, nama, jenis_makanan):\n",
        "    super().__init__(nama)\n",
        "    self.jenis_makanan = jenis_makanan\n",
        "    print(f\"Hewan '{self.nama}' adalah {self.jenis_makanan}\")\n",
        "\n",
        "  def bergerak(self):\n",
        "    print(f\"{self.nama} sedang bergerak.\")\n",
        "\n",
        "class Mamalia(Hewan):\n",
        "  def __init__(self,nama, jenis_makanan, jumlah_kaki):\n",
        "    super().__init__(nama, jenis_makanan)\n",
        "    self.jumlah_kaki = jumlah_kaki\n",
        "    print(f\"Mamalia {self.nama} memiliki {self.jumlah_kaki}\")\n",
        "\n",
        "  def menyusui(self) :\n",
        "    print(f\"{self.nama} sedang menyusui\")\n",
        "\n",
        "if __name__ == \"__main__\" :\n",
        "  kucing = Mamalia(\"Kucing Persia\", \"Karnivora\", 4)\n",
        "  print(\"-\" * 20)\n",
        "\n",
        "  kucing.menyusui()\n",
        "\n",
        "  kucing.bergerak()\n",
        "\n",
        "  print(f\"Jenis makanan : {kucing.jenis_makanan}\")\n",
        "\n",
        "  kucing.bernapas()\n",
        "  print(f\"Nama organisme : {kucing.nama}\")"
      ],
      "metadata": {
        "colab": {
          "base_uri": "https://localhost:8080/"
        },
        "id": "tu5lksJysFWj",
        "outputId": "5cdf545d-07d3-4c6c-d6bb-36ad9177228b"
      },
      "execution_count": 5,
      "outputs": [
        {
          "output_type": "stream",
          "name": "stdout",
          "text": [
            "Organisme 'Kucing Persia' diciptakan\n",
            "Hewan 'Kucing Persia' adalah Karnivora\n",
            "Mamalia Kucing Persia memiliki 4\n",
            "--------------------\n",
            "Kucing Persia sedang menyusui\n",
            "Kucing Persia sedang bergerak.\n",
            "Jenis makanan : Karnivora\n",
            "Kucing Persia sedang bernapas.\n",
            "Nama organisme : Kucing Persia\n"
          ]
        }
      ]
    },
    {
      "cell_type": "code",
      "source": [],
      "metadata": {
        "id": "xRtgQ7xTto0v"
      },
      "execution_count": 5,
      "outputs": []
    },
    {
      "cell_type": "markdown",
      "source": [
        "## PRAKTIKUM 5"
      ],
      "metadata": {
        "id": "nirwx_Clwuel"
      }
    },
    {
      "cell_type": "code",
      "source": [
        "import locale\n",
        "\n",
        "try:\n",
        "  locale.setlocale(locale.LC_ALL, 'id_ID.UTF-8')\n",
        "except locale.Error:\n",
        "  print(\"Locale id_ID.UTF-8 tidak tersedia, nenggunakan locale.default.\")\n",
        "\n",
        "def format_rupiah (angka):\n",
        "  return locale.currency(angka, grouping=True, symbol=\"Rp\")\n",
        "\n",
        "class Pegawai:\n",
        "  def __init__ (self, nama, id_pegawai, gaji_pokok):\n",
        "    self.nama = nama\n",
        "    self.id_pegawai = id_pegawai\n",
        "    self.gaji_pokok = gaji_pokok\n",
        "\n",
        "  def hitung_gaji (self) :\n",
        "    return self.gaji_pokok\n",
        "\n",
        "  def tampilkan_info(self) :\n",
        "    print(f\"ID : {self.id_pegawai}, Nama : {self.nama}\")\n",
        "    print(f\"Gaji pokok : {format_rupiah(self.gaji_pokok)}\")\n",
        "\n",
        "class Manager (Pegawai) :\n",
        "  def __init__ (self, nama, id_pegawai, gaji_pokok, tunjangan_jabatan) :\n",
        "    super().__init__(nama, id_pegawai, gaji_pokok)\n",
        "    self.tunjangan_jabatan = tunjangan_jabatan\n",
        "\n",
        "  def hitung_gaji (self):\n",
        "    gaji_total = super().hitung_gaji() + self.tunjangan_jabatan\n",
        "    return gaji_total\n",
        "\n",
        "  def tampilkan_info (self) :\n",
        "    print( \"---- Info manager ---\")\n",
        "    super().tampilkan_info()\n",
        "    print(f\"Total gaji: {format_rupiah(self.hitung_gaji())}\")\n",
        "\n",
        "class StaffTeknis (Pegawai):\n",
        "  def __init__ (self, nama, id_pegawai, gaji_pokok, keahlian, bonus_keahlian):\n",
        "    super().__init__(nama, id_pegawai, gaji_pokok)\n",
        "    self.keahlian = keahlian\n",
        "    self.bonus_keahlian = bonus_keahlian\n",
        "\n",
        "  def hitung_gaji(self) :\n",
        "    gaji_total = super().hitung_gaji() + self.bonus_keahlian\n",
        "    return gaji_total\n",
        "\n",
        "  def tampilkan_info (self) :\n",
        "    print(\"---- Info Staff Teknis ---\")\n",
        "    super().tampilkan_info()\n",
        "    print(f\"Keahlian : {self.keahlian}\")\n",
        "    print(f\"Bonus keahlian : {format_rupiah(self.bonus_keahlian)}\")\n",
        "    print(f\"Total gaji : {format_rupiah(self.hitung_gaji())}\")\n",
        "\n",
        "if __name__ == \"__main__\"     :\n",
        "  manager1 =  Manager(\"Budi Santoso\", \"M001\", 10000000, 5000000)\n",
        "  staf1 = StaffTeknis(\"Citra Lestari\", \"S001\", 7000000, \"Python Programming\", 1500000)\n",
        "  pegawai_baru = Pegawai(\"Rian\", \"P005\", 5000000)\n",
        "\n",
        "  print(\"Menampilkan informasi pegawai : \")\n",
        "  manager1.tampilkan_info()\n",
        "  print(\"-\" * 20)\n",
        "  staf1.tampilkan_info()\n",
        "  print(\"-\" * 20)\n",
        "\n",
        "  print(\"--- Info PeGAWAI Baru ----\")\n",
        "  pegawai_baru.tampilkan_info()\n",
        "  print(f\"Total gaji : {format_rupiah(pegawai_baru.hitung_gaji())}\")\n",
        "  print(\"-\" * 20)\n",
        "\n",
        "\n",
        "\n",
        "\n"
      ],
      "metadata": {
        "colab": {
          "base_uri": "https://localhost:8080/"
        },
        "id": "j_IUnOwYwvhU",
        "outputId": "2e833348-0351-4e96-8aab-3fc92e7551d8"
      },
      "execution_count": 6,
      "outputs": [
        {
          "output_type": "stream",
          "name": "stdout",
          "text": [
            "Menampilkan informasi pegawai : \n",
            "---- Info manager ---\n",
            "ID : M001, Nama : Budi Santoso\n",
            "Gaji pokok : Rp10.000.000,00\n",
            "Total gaji: Rp15.000.000,00\n",
            "--------------------\n",
            "---- Info Staff Teknis ---\n",
            "ID : S001, Nama : Citra Lestari\n",
            "Gaji pokok : Rp7.000.000,00\n",
            "Keahlian : Python Programming\n",
            "Bonus keahlian : Rp1.500.000,00\n",
            "Total gaji : Rp8.500.000,00\n",
            "--------------------\n",
            "--- Info PeGAWAI Baru ----\n",
            "ID : P005, Nama : Rian\n",
            "Gaji pokok : Rp5.000.000,00\n",
            "Total gaji : Rp5.000.000,00\n",
            "--------------------\n"
          ]
        }
      ]
    },
    {
      "cell_type": "markdown",
      "source": [
        "## PRAKTIKUM 6"
      ],
      "metadata": {
        "id": "Vpge7Q7j40RT"
      }
    },
    {
      "cell_type": "code",
      "source": [
        "class BentukGeometri:\n",
        "  def __init__ (self, nama_bentuk):\n",
        "    self.nama = nama_bentuk\n",
        "  def tampilkan_nama(self):\n",
        "    print(f\"Ini adalah bentuk : {self.nama}\")\n",
        "  def hitung_luas(self):\n",
        "    print(f\"Luas {self.nama } tidak dapat dihitung (generik)\")\n",
        "\n",
        "class PersegiPanjang (BentukGeometri) :\n",
        "    def __init__(self, panjang, lebar) :\n",
        "      super().__init__(\"Persegi Panjang\")\n",
        "      self.panjang = panjang\n",
        "      self.lebar = lebar\n",
        "    def hitung_luas(self) :\n",
        "      luas = self.panjang * self.lebar\n",
        "      print(f\"Luas {self.nama} : {luas}\")\n",
        "\n",
        "class Segitiga(BentukGeometri) :\n",
        "  def __init__(self, alas, tinggi) :\n",
        "    super().__init__(\"Segitiga\")\n",
        "    self.alas = alas\n",
        "    self.tinggi = tinggi\n",
        "  def hitung_luas(self) :\n",
        "    luas = 0.5 * self.alas * self.tinggi\n",
        "    print(f\"Luas {self.nama} : {luas}\")\n",
        "\n",
        "def proses_bentuk(bentuk):\n",
        "    print(f\"\\nMemproses objek : {type(bentuk)}\")\n",
        "    if isinstance(bentuk, BentukGeometri):\n",
        "      bentuk.tampilkan_nama()\n",
        "      print(\"Objek ini adalah instance dari BentukGeometri (atau turunannya)\")\n",
        "\n",
        "      if isinstance (bentuk, PersegiPanjang):\n",
        "        print(\"-> Objek ini juga isntance dari PersegiPanjang\")\n",
        "      elif isinstance (bentuk, Segitiga):\n",
        "        print(\"-> Objek ini juga instance dari Segitiga\")\n",
        "\n",
        "    else:\n",
        "      print(\"Objek ini BUKAN instance dari BentukGeometri\")\n",
        "\n",
        "    if isinstance(bentuk, str):\n",
        "      print(\"Objek ini adalah string.\")\n",
        "\n",
        "if __name__ == \"__main__\" :\n",
        "  pp = PersegiPanjang(4,3)\n",
        "  seg = Segitiga(5,2)\n",
        "\n",
        "  bg = BentukGeometri(\"Lingkaran\")\n",
        "  teks = \"Ini string\"\n",
        "\n",
        "  daftar_objek = [pp, seg, bg, teks]\n",
        "\n",
        "  for obj in daftar_objek:\n",
        "    proses_bentuk(obj)\n",
        "\n",
        "\n"
      ],
      "metadata": {
        "colab": {
          "base_uri": "https://localhost:8080/"
        },
        "id": "UCLW_Yaf44VM",
        "outputId": "1e8b68e6-c0c5-4066-d1ce-5346e67de40f"
      },
      "execution_count": 7,
      "outputs": [
        {
          "output_type": "stream",
          "name": "stdout",
          "text": [
            "\n",
            "Memproses objek : <class '__main__.PersegiPanjang'>\n",
            "Ini adalah bentuk : Persegi Panjang\n",
            "Objek ini adalah instance dari BentukGeometri (atau turunannya)\n",
            "-> Objek ini juga isntance dari PersegiPanjang\n",
            "\n",
            "Memproses objek : <class '__main__.Segitiga'>\n",
            "Ini adalah bentuk : Segitiga\n",
            "Objek ini adalah instance dari BentukGeometri (atau turunannya)\n",
            "-> Objek ini juga instance dari Segitiga\n",
            "\n",
            "Memproses objek : <class '__main__.BentukGeometri'>\n",
            "Ini adalah bentuk : Lingkaran\n",
            "Objek ini adalah instance dari BentukGeometri (atau turunannya)\n",
            "\n",
            "Memproses objek : <class 'str'>\n",
            "Objek ini BUKAN instance dari BentukGeometri\n",
            "Objek ini adalah string.\n"
          ]
        }
      ]
    },
    {
      "cell_type": "markdown",
      "source": [
        "## PENUGASAN"
      ],
      "metadata": {
        "id": "8KL8fpuU_vJ0"
      }
    },
    {
      "cell_type": "code",
      "source": [
        "class Mahasiswa:\n",
        "  def __init__(self, nama, nim, ipk):\n",
        "    self.nama = nama\n",
        "    self.nim = nim\n",
        "    self.ipk = ipk\n",
        "\n",
        "  def tampilkan_info(self):\n",
        "    print(f\"Nama : {self.nama} \\nNIM : {self.nim} \\nIPK : {self.ipk}\")\n",
        "\n",
        "  def hitung_predikat(self):\n",
        "    if self.ipk >= 3.5:\n",
        "      print(f\"Saudara {self.nama} lulus dengan predikat terpuji\")\n",
        "    elif self.ipk >= 3:\n",
        "      print(f\"Saudara {self.nama} lulus dengan predikat sangat memuaskan\")\n",
        "    elif self.ipk >= 2.5:\n",
        "      print(f\"Saudara {self.nama} lulus dengan predikat memuaskan\")\n",
        "    else:\n",
        "      print(f\"Saudara {self.nama} lulus dengan predikat cukup\")\n",
        "\n",
        "class MahasiswaSarjana(Mahasiswa):\n",
        "  def __init__(self, nama, nim, ipk, semester, sks_lulus):\n",
        "    super().__init__(nama, nim, ipk)\n",
        "    self.semester = semester\n",
        "    self.sks_lulus = sks_lulus\n",
        "\n",
        "  def tampilkan_info(self):\n",
        "    super().tampilkan_info()\n",
        "    print(f\"Semester : {self.semester} \\nSKS Lulus : {self.sks_lulus}\")\n",
        "\n",
        "class MahasiswaMagister(Mahasiswa):\n",
        "  def __init__(self, nama, nim, ipk, judul_tesis, nama_pembimbing):\n",
        "    super().__init__(nama, nim, ipk)\n",
        "    self.judul_tesis = judul_tesis\n",
        "    self.nama_pembimbing = nama_pembimbing\n",
        "\n",
        "  def tampilkan_info(self):\n",
        "    super().tampilkan_info()\n",
        "    print(f\"Judul Tesis : {self.judul_tesis} \\nNama Pembimbing : {self.nama_pembimbing}\")\n",
        "\n",
        "if __name__ == \"__main__\" :\n",
        "  Yusuf_Fadhlih_Firmansyah = MahasiswaSarjana(\"Yusuf Fadhlih Firmansyah\", \"4.33.24.1.26\", 3.9, 2, 144)\n",
        "  Azka_Yudia_Febriano = MahasiswaMagister(\"Azka Yudia Febriano\", \"4.33.24.1.20\", \"4.0\", \"Performa next js\", \"Pak Budi\")\n",
        "\n",
        "  Yusuf_Fadhlih_Firmansyah.hitung_predikat()\n",
        "  Yusuf_Fadhlih_Firmansyah.tampilkan_info()\n",
        "  print(\"-\" * 20)\n",
        "  Azka_Yudia_Febriano.tampilkan_info()\n",
        "\n",
        "\n",
        "\n"
      ],
      "metadata": {
        "colab": {
          "base_uri": "https://localhost:8080/"
        },
        "id": "smH1XuC5_we4",
        "outputId": "194328ac-9688-47e8-f2a1-8b3214650c82"
      },
      "execution_count": 8,
      "outputs": [
        {
          "output_type": "stream",
          "name": "stdout",
          "text": [
            "Saudara Yusuf Fadhlih Firmansyah lulus dengan predikat terpuji\n",
            "Nama : Yusuf Fadhlih Firmansyah \n",
            "NIM : 4.33.24.1.26 \n",
            "IPK : 3.9\n",
            "Semester : 2 \n",
            "SKS Lulus : 144\n",
            "--------------------\n",
            "Nama : Azka Yudia Febriano \n",
            "NIM : 4.33.24.1.20 \n",
            "IPK : 4.0\n",
            "Judul Tesis : Performa next js \n",
            "Nama Pembimbing : Pak Budi\n"
          ]
        }
      ]
    },
    {
      "cell_type": "code",
      "source": [],
      "metadata": {
        "id": "wC7ytCCaAvJH"
      },
      "execution_count": 8,
      "outputs": []
    },
    {
      "cell_type": "markdown",
      "source": [
        "![Screenshot 2025-04-24 195807.png](data:image/png;base64,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)"
      ],
      "metadata": {
        "id": "WN4u9KAB4hZQ"
      }
    },
    {
      "cell_type": "code",
      "source": [],
      "metadata": {
        "id": "rUUpUaqf4s95"
      },
      "execution_count": null,
      "outputs": []
    }
  ]
}