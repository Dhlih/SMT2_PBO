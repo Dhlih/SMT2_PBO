{
  "nbformat": 4,
  "nbformat_minor": 0,
  "metadata": {
    "colab": {
      "provenance": [],
      "toc_visible": true,
      "authorship_tag": "ABX9TyNATPLD/VNn/t+2jL7KaQVr",
      "include_colab_link": true
    },
    "kernelspec": {
      "name": "python3",
      "display_name": "Python 3"
    },
    "language_info": {
      "name": "python"
    }
  },
  "cells": [
    {
      "cell_type": "markdown",
      "metadata": {
        "id": "view-in-github",
        "colab_type": "text"
      },
      "source": [
        "<a href=\"https://colab.research.google.com/github/Dhlih/SMT2_PBO/blob/main/jobsheet03.ipynb\" target=\"_parent\"><img src=\"https://colab.research.google.com/assets/colab-badge.svg\" alt=\"Open In Colab\"/></a>"
      ]
    },
    {
      "cell_type": "markdown",
      "source": [
        "## PRAKTIKUM 1"
      ],
      "metadata": {
        "id": "FQEqsv3B1gpl"
      }
    },
    {
      "cell_type": "code",
      "execution_count": 1,
      "metadata": {
        "id": "UjGqlC6AwndQ",
        "colab": {
          "base_uri": "https://localhost:8080/"
        },
        "outputId": "a8ecfb2b-3b52-44a3-f0aa-57dd39f4df8f"
      },
      "outputs": [
        {
          "output_type": "stream",
          "name": "stdout",
          "text": [
            "500 telah ditambahkan ke akun Alice.\n",
            "Jumlah deposit harus lebih dari 0.\n",
            "300 telah ditarik dari akun Alice.\n",
            "Saldo tidak mencukupi.\n",
            "Saldo terakhir di akun Alice: 1200\n"
          ]
        }
      ],
      "source": [
        "class BankAccount:\n",
        "    def __init__(self, owner, balance):\n",
        "        # Atribut dengan double underscore (__) dianggap \"private\" di Python\n",
        "        self.__owner = owner\n",
        "        self.__balance = balance\n",
        "\n",
        "    def deposit(self, amount):\n",
        "        \"\"\"Method untuk menambahkan saldo.\"\"\"\n",
        "        if amount > 0:\n",
        "            self.__balance += amount\n",
        "            print(f\"{amount} telah ditambahkan ke akun {self.__owner}.\")\n",
        "        else:\n",
        "            print(\"Jumlah deposit harus lebih dari 0.\")\n",
        "\n",
        "    def withdraw(self, amount):\n",
        "        \"\"\"Method untuk menarik saldo.\"\"\"\n",
        "        if amount <= self.__balance:\n",
        "            self.__balance -= amount\n",
        "            print(f\"{amount} telah ditarik dari akun {self.__owner}.\")\n",
        "        else:\n",
        "            print(\"Saldo tidak mencukupi.\")\n",
        "\n",
        "    def get_balance(self):\n",
        "        \"\"\"Method untuk mendapatkan informasi saldo terkini.\"\"\"\n",
        "        return self.__balance\n",
        "\n",
        "# Contoh penggunaan\n",
        "if __name__ == \"__main__\":\n",
        "    # Membuat objek BankAccount dengan owner=\"Alice\" dan balance awal 1000\n",
        "    alice_account = BankAccount(owner=\"Alice\", balance=1000)\n",
        "\n",
        "    # Deposit uang\n",
        "    alice_account.deposit(500)    # Berhasil\n",
        "    alice_account.deposit(-100)   # Gagal (validasi)\n",
        "\n",
        "    # Withdraw uang\n",
        "    alice_account.withdraw(300)   # Berhasil\n",
        "    alice_account.withdraw(2000)  # Gagal (saldo tidak cukup)\n",
        "\n",
        "    # Mendapatkan saldo\n",
        "    current_balance = alice_account.get_balance()\n",
        "    print(f\"Saldo terakhir di akun {alice_account._BankAccount__owner}: {current_balance}\")\n",
        "\n",
        "    # Mencoba mengakses atribut 'private' langsung (tidak direkomendasikan)\n",
        "    # alice_account.__balance # Akan error\n",
        "    # Karena Python “mangling” nama atribut __balance menjadi _BankAccount__balance\n",
        "    # Ini adalah salah satu mekanisme enkapsulasi sederhana di Python.\n"
      ]
    },
    {
      "cell_type": "markdown",
      "source": [
        "## PRAKTIKUM 2"
      ],
      "metadata": {
        "id": "G0OtAbNZ1lyt"
      }
    },
    {
      "cell_type": "code",
      "source": [
        "class Employee:\n",
        "    def __init__(self, name, salary):\n",
        "        # Atribut privat dengan double underscore\n",
        "        self.__name = name\n",
        "        self.__salary = salary\n",
        "\n",
        "    def update_salary(self, increase):\n",
        "        \"\"\"Method untuk menaikkan gaji dengan validasi.\"\"\"\n",
        "        if increase > 0:\n",
        "            self.__salary += increase\n",
        "            print(f\"Gaji telah dinaikkan sebesar {increase}.\")\n",
        "        else:\n",
        "            print(\"Nilai kenaikan harus lebih dari 0.\")\n",
        "\n",
        "    def set_salary(self, new_salary):\n",
        "        \"\"\"Method untuk mengubah gaji dengan validasi.\"\"\"\n",
        "        if new_salary >= 0:\n",
        "            self.__salary = new_salary\n",
        "            print(f\"Gaji diatur ulang menjadi {new_salary}.\")\n",
        "        else:\n",
        "            print(\"Gaji tidak dapat bernilai negatif.\")\n",
        "\n",
        "    def get_salary(self):\n",
        "        \"\"\"Method untuk mendapatkan informasi gaji.\"\"\"\n",
        "        return self.__salary\n",
        "\n",
        "    def get_employee_info(self):\n",
        "        \"\"\"Method untuk menampilkan informasi karyawan secara menyeluruh.\"\"\"\n",
        "        return f\"Employee: {self.__name}, Gaji: {self.__salary}\"\n",
        "\n",
        "# Contoh penggunaan\n",
        "if __name__ == \"__main__\":\n",
        "    # Membuat objek Employee dengan nama \"John Doe\" dan gaji awal 50000\n",
        "    employee1 = Employee(\"John Doe\", 50000)\n",
        "\n",
        "    # Tampilkan informasi karyawan\n",
        "    print(employee1.get_employee_info())\n",
        "\n",
        "    # Update gaji dengan menaikkan sebesar 5000\n",
        "    employee1.update_salary(5000)\n",
        "    print(f\"Gaji setelah kenaikan: {employee1.get_salary()}\")\n",
        "\n",
        "    # Atur ulang gaji dengan nilai baru\n",
        "    employee1.set_salary(60000)\n",
        "    print(f\"Informasi terbaru: {employee1.get_employee_info()}\")\n",
        "\n",
        "    # Mencoba mengakses atribut privat secara langsung (tidak direkomendasikan)\n",
        "    # Contoh: print(employee1.__salary) --> Ini akan menimbulkan error\n"
      ],
      "metadata": {
        "colab": {
          "base_uri": "https://localhost:8080/"
        },
        "id": "F5_feQSr1qYc",
        "outputId": "d251e405-322b-4c0f-95fd-904193cff274"
      },
      "execution_count": 2,
      "outputs": [
        {
          "output_type": "stream",
          "name": "stdout",
          "text": [
            "Employee: John Doe, Gaji: 50000\n",
            "Gaji telah dinaikkan sebesar 5000.\n",
            "Gaji setelah kenaikan: 55000\n",
            "Gaji diatur ulang menjadi 60000.\n",
            "Informasi terbaru: Employee: John Doe, Gaji: 60000\n"
          ]
        }
      ]
    },
    {
      "cell_type": "markdown",
      "source": [
        "## PRAKTIKUM 3"
      ],
      "metadata": {
        "id": "7b-v_3BM13qV"
      }
    },
    {
      "cell_type": "code",
      "source": [
        "class SimpleExample:\n",
        "    def __init__(self, name):\n",
        "        \"\"\"\n",
        "        Konstruktor: Dipanggil saat objek dibuat.\n",
        "        Menyimpan nilai 'name' dan mencetak pesan pembuatan objek.\n",
        "        \"\"\"\n",
        "        self.name = name\n",
        "        print(f\"Konstruktor: Objek '{self.name}' telah dibuat.\")\n",
        "\n",
        "    def __del__(self):\n",
        "        \"\"\"\n",
        "        Destruktor: Dipanggil saat objek dihapus.\n",
        "        Mencetak pesan bahwa objek sedang dihapus.\n",
        "        \"\"\"\n",
        "        print(f\"Destruktor: Objek '{self.name}' sedang dihapus.\")\n",
        "\n",
        "\n",
        "def main():\n",
        "    print(\"Program dimulai.\\n\")\n",
        "\n",
        "    # Membuat objek SimpleExample\n",
        "    obj = SimpleExample(\"Demo\")\n",
        "    print(\"Program sedang berjalan...\\n\")\n",
        "\n",
        "    # Menghapus objek secara eksplisit\n",
        "    del obj\n",
        "    print(\"Objek telah dihapus secara eksplisit.\\n\")\n",
        "\n",
        "    print(\"Program selesai.\")\n",
        "\n",
        "\n",
        "if __name__ == \"__main__\":\n",
        "    main()\n"
      ],
      "metadata": {
        "colab": {
          "base_uri": "https://localhost:8080/"
        },
        "id": "ho0CXV1v14ij",
        "outputId": "7b5937c9-4620-40cc-b7f7-bb2b36575216"
      },
      "execution_count": 3,
      "outputs": [
        {
          "output_type": "stream",
          "name": "stdout",
          "text": [
            "Program dimulai.\n",
            "\n",
            "Konstruktor: Objek 'Demo' telah dibuat.\n",
            "Program sedang berjalan...\n",
            "\n",
            "Destruktor: Objek 'Demo' sedang dihapus.\n",
            "Objek telah dihapus secara eksplisit.\n",
            "\n",
            "Program selesai.\n"
          ]
        }
      ]
    },
    {
      "cell_type": "code",
      "source": [
        "## PRAKTIKUM 4"
      ],
      "metadata": {
        "id": "FNkd0wq_4ZiU"
      },
      "execution_count": 4,
      "outputs": []
    },
    {
      "cell_type": "code",
      "source": [
        "class FileLogger:\n",
        "    def __init__(self, filename):\n",
        "        \"\"\"\n",
        "        Konstruktor: Membuka file log untuk menulis pesan.\n",
        "        Parameter:\n",
        "        - filename: Nama file tempat pesan log akan ditulis.\n",
        "        \"\"\"\n",
        "        self.filename = filename\n",
        "        try:\n",
        "            self.file = open(filename, \"a\")  # Membuka file dalam mode append\n",
        "            print(f\"File '{filename}' berhasil dibuka untuk logging.\")\n",
        "        except Exception as e:\n",
        "            print(f\"Gagal membuka file '{filename}': {e}\")\n",
        "\n",
        "    def write_log(self, message):\n",
        "        \"\"\"\n",
        "        Menulis pesan log ke dalam file.\n",
        "        Parameter:\n",
        "        - message: Pesan yang akan ditulis ke file.\n",
        "        \"\"\"\n",
        "        self.file.write(message + \"\\n\")\n",
        "        self.file.flush()  # Memastikan pesan langsung ditulis ke disk\n",
        "        print(f\"Pesan log: '{message}' telah ditulis.\")\n",
        "\n",
        "    def __del__(self):\n",
        "        \"\"\"\n",
        "        Destruktor: Menutup file log ketika objek dihapus.\n",
        "        \"\"\"\n",
        "        if hasattr(self, \"file\") and not self.file.closed:\n",
        "            self.file.close()\n",
        "            print(f\"File '{self.filename}' telah ditutup.\")\n",
        "\n",
        "\n",
        "# Contoh penggunaan dalam skenario nyata aplikasi\n",
        "if __name__ == \"__main__\":\n",
        "    # Membuat objek logger untuk file \"application.log\"\n",
        "    logger = FileLogger(\"application.log\")\n",
        "\n",
        "    # Menulis beberapa pesan log selama operasi aplikasi\n",
        "    logger.write_log(\"Aplikasi dimulai.\")\n",
        "    logger.write_log(\"Melakukan operasi A...\")\n",
        "    logger.write_log(\"Operasi A selesai.\")\n",
        "    logger.write_log(\"Aplikasi akan segera selesai.\")\n",
        "\n",
        "    # Menghapus objek logger secara eksplisit\n",
        "    del logger\n",
        "\n",
        "    # Jika objek tidak dihapus secara eksplisit, destruktor akan dipanggil\n",
        "    # ketika program berakhir dan garbage collection membersihkan objek tersebut.\n"
      ],
      "metadata": {
        "colab": {
          "base_uri": "https://localhost:8080/"
        },
        "id": "MS5WWnnA4bzw",
        "outputId": "2ae3ab83-37fb-4f1b-bad5-036e5fe96953"
      },
      "execution_count": 5,
      "outputs": [
        {
          "output_type": "stream",
          "name": "stdout",
          "text": [
            "File 'application.log' berhasil dibuka untuk logging.\n",
            "Pesan log: 'Aplikasi dimulai.' telah ditulis.\n",
            "Pesan log: 'Melakukan operasi A...' telah ditulis.\n",
            "Pesan log: 'Operasi A selesai.' telah ditulis.\n",
            "Pesan log: 'Aplikasi akan segera selesai.' telah ditulis.\n",
            "File 'application.log' telah ditutup.\n"
          ]
        }
      ]
    },
    {
      "cell_type": "markdown",
      "source": [
        "## PRAKTIKUM 5"
      ],
      "metadata": {
        "id": "U-vju7ct4odM"
      }
    },
    {
      "cell_type": "code",
      "source": [
        "class Calculator:\n",
        "    def __init__(self, initial_value=0):\n",
        "        \"\"\"\n",
        "        Konstruktor kelas Calculator.\n",
        "        - self: Mengacu pada instance yang dibuat.\n",
        "        - initial_value: Nilai awal dari kalkulator.\n",
        "        \"\"\"\n",
        "        self.value = initial_value\n",
        "        print(f\"Kalkulator diinisialisasi dengan nilai: {self.value}\")\n",
        "\n",
        "    def add(self, number):\n",
        "        \"\"\"\n",
        "        Menambahkan 'number' ke nilai yang tersimpan di objek.\n",
        "        - self.value: Menunjukkan nilai saat ini yang disimpan di objek tersebut.\n",
        "        - number: Nilai yang akan ditambahkan.\n",
        "        \"\"\"\n",
        "        self.value += number\n",
        "        print(f\"Setelah penambahan {number}, nilai sekarang adalah: {self.value}\")\n",
        "\n",
        "    def subtract(self, number):\n",
        "        \"\"\"\n",
        "        Mengurangi 'number' dari nilai yang tersimpan.\n",
        "        - self.value: Nilai saat ini dalam objek.\n",
        "        - number: Nilai yang akan dikurangkan.\n",
        "        \"\"\"\n",
        "        self.value -= number\n",
        "        print(f\"Setelah pengurangan {number}, nilai sekarang adalah: {self.value}\")\n",
        "\n",
        "    def reset(self):\n",
        "        \"\"\"\n",
        "        Mengatur ulang nilai kalkulator ke 0.\n",
        "        \"\"\"\n",
        "        self.value = 0\n",
        "        print(\"Nilai telah direset ke 0.\")\n",
        "\n",
        "    def show_value(self):\n",
        "        \"\"\"\n",
        "        Menampilkan nilai saat ini dari kalkulator.\n",
        "        \"\"\"\n",
        "        print(f\"Nilai saat ini adalah: {self.value}\")\n",
        "\n",
        "\n",
        "# Contoh penggunaan untuk memahami peran 'self'\n",
        "def main():\n",
        "    # Membuat objek Calculator dengan nilai awal 10\n",
        "    calc1 = Calculator(initial_value=10)\n",
        "\n",
        "    # Menggunakan metode dari objek calc1\n",
        "    calc1.add(5)         # Menambah 5 ke nilai calc1\n",
        "    calc1.subtract(3)    # Mengurangi 3 dari nilai calc1\n",
        "    calc1.show_value()   # Menampilkan nilai calc1\n",
        "\n",
        "    # Membuat objek Calculator lainnya dengan nilai awal default (0)\n",
        "    calc2 = Calculator()\n",
        "    calc2.add(20)        # Menambah 20 ke nilai calc2\n",
        "    calc2.show_value()   # Menampilkan nilai calc2\n",
        "\n",
        "    # Penjelasan peran self:\n",
        "    # 'self' memungkinkan setiap instance (calc1, calc2) memiliki atribut 'value' masing-masing.\n",
        "    # Perubahan yang dilakukan pada calc1 tidak akan mempengaruhi calc2,\n",
        "    # karena masing-masing mengacu pada self yang berbeda (instance yang berbeda).\n",
        "\n",
        "\n",
        "if __name__ == \"__main__\":\n",
        "    main()\n"
      ],
      "metadata": {
        "colab": {
          "base_uri": "https://localhost:8080/"
        },
        "id": "lDhW2DXK4px0",
        "outputId": "b5d77eed-97a0-44e8-a1a6-f41e4b38623c"
      },
      "execution_count": 6,
      "outputs": [
        {
          "output_type": "stream",
          "name": "stdout",
          "text": [
            "Kalkulator diinisialisasi dengan nilai: 10\n",
            "Setelah penambahan 5, nilai sekarang adalah: 15\n",
            "Setelah pengurangan 3, nilai sekarang adalah: 12\n",
            "Nilai saat ini adalah: 12\n",
            "Kalkulator diinisialisasi dengan nilai: 0\n",
            "Setelah penambahan 20, nilai sekarang adalah: 20\n",
            "Nilai saat ini adalah: 20\n"
          ]
        }
      ]
    },
    {
      "cell_type": "code",
      "source": [
        "## PRAKTIKUM 6"
      ],
      "metadata": {
        "id": "R80DiOxx46DV"
      },
      "execution_count": 7,
      "outputs": []
    },
    {
      "cell_type": "code",
      "source": [
        "class Person:\n",
        "    def __init__(self, name, age):\n",
        "        \"\"\"\n",
        "        Konstruktor untuk menginisialisasi objek Person dengan nama dan umur.\n",
        "        Atribut privat (dengan double underscore) menyimpan data internal.\n",
        "        \"\"\"\n",
        "        self.__name = name\n",
        "        self.__age = age\n",
        "\n",
        "    @property\n",
        "    def name(self):\n",
        "        \"\"\"\n",
        "        Getter untuk atribut name.\n",
        "        Mengembalikan nilai dari __name.\n",
        "        \"\"\"\n",
        "        return self.__name\n",
        "\n",
        "    @name.setter\n",
        "    def name(self, value):\n",
        "        \"\"\"\n",
        "        Setter untuk atribut name.\n",
        "        Memeriksa apakah nilai tidak kosong sebelum mengubah nilai __name.\n",
        "        \"\"\"\n",
        "        if not value:\n",
        "            print(\"Nama tidak boleh kosong.\")\n",
        "        else:\n",
        "            self.__name = value\n",
        "\n",
        "    @property\n",
        "    def age(self):\n",
        "        \"\"\"\n",
        "        Getter untuk atribut age.\n",
        "        Mengembalikan nilai dari __age.\n",
        "        \"\"\"\n",
        "        return self.__age\n",
        "\n",
        "    @age.setter\n",
        "    def age(self, value):\n",
        "        \"\"\"\n",
        "        Setter untuk atribut age.\n",
        "        Memeriksa apakah nilai umur tidak negatif sebelum mengubah nilai __age.\n",
        "        \"\"\"\n",
        "        if value < 0:\n",
        "            print(\"Umur tidak boleh negatif!\")\n",
        "        else:\n",
        "            self.__age = value\n",
        "\n",
        "\n",
        "# Contoh penggunaan\n",
        "def main():\n",
        "    # Membuat objek Person dengan nama \"Alice\" dan umur 30\n",
        "    person = Person(\"Alice\", 30)\n",
        "    print(f\"Nama: {person.name}, Umur: {person.age}\")\n",
        "\n",
        "    # Mengubah nama dan umur melalui setter\n",
        "    person.name = \"Bob\"\n",
        "    person.age = 35\n",
        "    print(f\"Nama baru: {person.name}, Umur baru: {person.age}\")\n",
        "\n",
        "    # Mencoba menetapkan nilai yang tidak valid untuk umur\n",
        "    person.age = -5  # Akan memunculkan pesan error karena validasi umur negatif\n",
        "\n",
        "\n",
        "if __name__ == \"__main__\":\n",
        "    main()\n"
      ],
      "metadata": {
        "colab": {
          "base_uri": "https://localhost:8080/"
        },
        "id": "Flq1emrl47eC",
        "outputId": "d44742b9-bd59-4697-caae-63a912bc2b5c"
      },
      "execution_count": 8,
      "outputs": [
        {
          "output_type": "stream",
          "name": "stdout",
          "text": [
            "Nama: Alice, Umur: 30\n",
            "Nama baru: Bob, Umur baru: 35\n",
            "Umur tidak boleh negatif!\n"
          ]
        }
      ]
    },
    {
      "cell_type": "markdown",
      "source": [
        "## PENUGASAN"
      ],
      "metadata": {
        "id": "TfP9y5Pc6Ned"
      }
    },
    {
      "cell_type": "code",
      "source": [
        "class Student:\n",
        "    def __init__(self, name, score):\n",
        "        self.__name = name\n",
        "        self.__score = 0  # default, untuk memicu setter dan validasi\n",
        "        self.__grade = \"-\"\n",
        "        self.score = score  # akan memicu setter\n",
        "\n",
        "    @property\n",
        "    def name(self):\n",
        "        return self.__name\n",
        "\n",
        "    @name.setter\n",
        "    def name(self, value):\n",
        "        if value.strip() == \"\":\n",
        "            print(\"Nama tidak boleh kosong.\")\n",
        "        else:\n",
        "            self.__name = value\n",
        "\n",
        "    @property\n",
        "    def score(self):\n",
        "        return self.__score\n",
        "\n",
        "    @score.setter\n",
        "    def score(self, value):\n",
        "        if 0 <= value <= 100:\n",
        "            self.__score = value\n",
        "            self.__update_grade()\n",
        "        else:\n",
        "            print(\"Nilai harus antara 0 sampai 100.\")\n",
        "\n",
        "    def __update_grade(self):\n",
        "        if self.__score >= 90:\n",
        "            self.__grade = \"A\"\n",
        "        elif self.__score >= 80:\n",
        "            self.__grade = \"B\"\n",
        "        elif self.__score >= 70:\n",
        "            self.__grade = \"C\"\n",
        "        elif self.__score >= 60:\n",
        "            self.__grade = \"D\"\n",
        "        else:\n",
        "            self.__grade = \"E\"\n",
        "\n",
        "    def show_info(self):\n",
        "        print(f\"Nama Mahasiswa: {self.__name}\")\n",
        "        print(f\"Nilai: {self.__score}\")\n",
        "        print(f\"Grade: {self.__grade}\")\n",
        "\n",
        "    def __del__(self):\n",
        "        print(f\"Data mahasiswa {self.__name} telah dihapus dari sistem.\")\n",
        "\n",
        "\n",
        "# Contoh Penggunaan\n",
        "def main():\n",
        "    student = Student(\"Siti\", 87)\n",
        "    student.show_info()\n",
        "\n",
        "    print(\"Nilai diubah...\")\n",
        "    student.score = 93\n",
        "    student.show_info()\n",
        "\n",
        "    del student  # memicu __del__\n",
        "\n",
        "\n",
        "if __name__ == \"__main__\":\n",
        "    main()\n"
      ],
      "metadata": {
        "colab": {
          "base_uri": "https://localhost:8080/"
        },
        "id": "uIF_8B176PJo",
        "outputId": "43474164-a9bf-48e9-9b5a-07dcd8ccd525"
      },
      "execution_count": 9,
      "outputs": [
        {
          "output_type": "stream",
          "name": "stdout",
          "text": [
            "Nama Mahasiswa: Siti\n",
            "Nilai: 87\n",
            "Grade: B\n",
            "Nilai diubah...\n",
            "Nama Mahasiswa: Siti\n",
            "Nilai: 93\n",
            "Grade: A\n",
            "Data mahasiswa Siti telah dihapus dari sistem.\n"
          ]
        }
      ]
    },
    {
      "cell_type": "markdown",
      "source": [
        "#### KELAS DIAGRAM DARI PROGRAM :"
      ],
      "metadata": {
        "id": "PWjqmVf2_Uai"
      }
    },
    {
      "cell_type": "markdown",
      "source": [
        "![POz12i8m44NtFSKiMzGBTDKxU80XT4ODj4cOJ1GflRiHxLWmo_V_2t-6h4wqp5CpJYvdE6iX3WfB0_MT036ucNl8AaRo6AKY7zJGLHpjMWSm2vOaCR7eS_r6F_q_G_J1As9h_d7NxxOVRl5HYvVOTZtSeoUpYIV4ZTgwaiWfVqPQk3O31tfV_W80.png](data:image/png;base64,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)"
      ],
      "metadata": {
        "id": "DiHO-XqM_IvK"
      }
    },
    {
      "cell_type": "code",
      "source": [],
      "metadata": {
        "id": "JyI_VAdU_SpM"
      },
      "execution_count": null,
      "outputs": []
    }
  ]
}