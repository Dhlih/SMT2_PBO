{
  "nbformat": 4,
  "nbformat_minor": 0,
  "metadata": {
    "colab": {
      "provenance": [],
      "authorship_tag": "ABX9TyN8sqjQpe3jfPpqOYQMzXH6",
      "include_colab_link": true
    },
    "kernelspec": {
      "name": "python3",
      "display_name": "Python 3"
    },
    "language_info": {
      "name": "python"
    }
  },
  "cells": [
    {
      "cell_type": "markdown",
      "metadata": {
        "id": "view-in-github",
        "colab_type": "text"
      },
      "source": [
        "<a href=\"https://colab.research.google.com/github/Dhlih/SMT2_PBO/blob/main/jobsheet05.ipynb\" target=\"_parent\"><img src=\"https://colab.research.google.com/assets/colab-badge.svg\" alt=\"Open In Colab\"/></a>"
      ]
    },
    {
      "cell_type": "code",
      "execution_count": null,
      "metadata": {
        "id": "XgKYQR88ijUR"
      },
      "outputs": [],
      "source": []
    },
    {
      "cell_type": "markdown",
      "source": [
        "## Praktikum 01"
      ],
      "metadata": {
        "id": "B2q30P3xiu4l"
      }
    },
    {
      "cell_type": "code",
      "source": [
        "class Burung:\n",
        "  def __init__(self, nama) :\n",
        "    self.nama = nama\n",
        "\n",
        "  def terbang(self) :\n",
        "    print(f\"{self.nama} terbang dengan cara umum\")\n",
        "\n",
        "  def bersuara(self) :\n",
        "    print(f\"{self.nama} mengeluarkan suara burung\")\n",
        "\n",
        "class Elang(Burung):\n",
        "  def __init__(self, nama, rentang_sayap):\n",
        "    super().__init__(nama)\n",
        "    self.rentang_sayap = rentang_sayap\n",
        "\n",
        "  def terbang(self):\n",
        "    print(f\"{self.nama} terbang tinggi melayang di angkasa\")\n",
        "\n",
        "  def bersuara(self) :\n",
        "    print(f\"{self.nama} berteriak nyaring!\")\n",
        "\n",
        "class Pipit(Burung):\n",
        "  def __init__(self, nama, warna_bulu):\n",
        "    super().__init__(nama)\n",
        "    self.warna_bulu = warna_bulu\n",
        "\n",
        "  def terbang(self):\n",
        "    print(f\"{self.nama} terbang cepat di antara pepohonan\")\n",
        "\n",
        "  def bersuara(self):\n",
        "    print(f\"{self.nama} berkicau merdu: Cit cit!\")\n",
        "\n",
        "def demonstrasi_aksi_burung(daftar_burung):\n",
        "  print(\"\\nAksi Burung:\")\n",
        "  for burung in daftar_burung:\n",
        "    print(f\"-- Aksi untuk {burung.nama}\")\n",
        "    burung.terbang()\n",
        "    burung.bersuara()\n",
        "    print(\"-\" * 15)\n",
        "\n",
        "if __name__ == \"__main__\":\n",
        "  elang_jawa  = Elang(\"Elang Jawa\", 1.5)\n",
        "  pipit_gereja = Pipit(\"Pipipt Gereja\", \"Coklat\")\n",
        "  burung_aneh = Burung(\"Burung misterius\")\n",
        "\n",
        "  koleksi_burung = [elang_jawa, pipit_gereja, burung_aneh]\n",
        "\n",
        "  demonstrasi_aksi_burung(koleksi_burung)\n",
        "\n",
        "  demonstrasi_aksi_burung(koleksi_burung)"
      ],
      "metadata": {
        "colab": {
          "base_uri": "https://localhost:8080/"
        },
        "id": "aKKYlSSXixsZ",
        "outputId": "e3cfc7d0-16f1-470e-8a30-1c38bb5dd19f"
      },
      "execution_count": null,
      "outputs": [
        {
          "output_type": "stream",
          "name": "stdout",
          "text": [
            "\n",
            "Aksi Burung:\n",
            "-- Aksi untuk Elang Jawa\n",
            "Elang Jawa terbang tinggi melayang di angkasa\n",
            "Elang Jawa berteriak nyaring!\n",
            "---------------\n",
            "-- Aksi untuk Pipipt Gereja\n",
            "Pipipt Gereja terbang cepat di antara pepohonan\n",
            "Pipipt Gereja berkicau merdu: Cit cit!\n",
            "---------------\n",
            "-- Aksi untuk Burung misterius\n",
            "Burung misterius terbang dengan cara umum\n",
            "Burung misterius mengeluarkan suara burung\n",
            "---------------\n",
            "\n",
            "Aksi Burung:\n",
            "-- Aksi untuk Elang Jawa\n",
            "Elang Jawa terbang tinggi melayang di angkasa\n",
            "Elang Jawa berteriak nyaring!\n",
            "---------------\n",
            "-- Aksi untuk Pipipt Gereja\n",
            "Pipipt Gereja terbang cepat di antara pepohonan\n",
            "Pipipt Gereja berkicau merdu: Cit cit!\n",
            "---------------\n",
            "-- Aksi untuk Burung misterius\n",
            "Burung misterius terbang dengan cara umum\n",
            "Burung misterius mengeluarkan suara burung\n",
            "---------------\n"
          ]
        }
      ]
    },
    {
      "cell_type": "markdown",
      "source": [
        "## Praktikum 02"
      ],
      "metadata": {
        "id": "l6Vm0axBknuZ"
      }
    },
    {
      "cell_type": "code",
      "source": [
        "class Kucing:\n",
        "  def bersuara(self) :\n",
        "    print(\"Kucing: Meow!\")\n",
        "\n",
        "class Anjing:\n",
        "  def bersuara(self) :\n",
        "    print(\"Anjing: Gukguk!\")\n",
        "\n",
        "class Bebek:\n",
        "  def bersuara(self):\n",
        "    print(\"Bebek : Kewk kwek!\")\n",
        "\n",
        "class Mobil:\n",
        "  def jalankan(self):\n",
        "    print(\"Mobil : Brummm!\")\n",
        "\n",
        "class Mobil:\n",
        "  def jalankan(self):\n",
        "    print(\"Mobil : Brummm!\")\n",
        "\n",
        "def buat_suara(objek_yang_bisa_bersuara):\n",
        "  try:\n",
        "    objek_yang_bisa_bersuara.bersuara()\n",
        "  except AttributeError:\n",
        "    print(f\"Objek {type(objek_yang_bisa_bersuara)}\")\n",
        "\n",
        "if __name__ == \"__main__\":\n",
        "  kucing1 = Kucing()\n",
        "  anjign1 = Anjing()\n",
        "  bebek = Bebek()\n",
        "  mobil = Mobil()\n",
        "\n",
        "  daftar_objek = [kucing1, anjign1, bebek, mobil]\n",
        "\n",
        "  print(\"Demonstrasi Duck Typing :\")\n",
        "  for item in daftar_objek:\n",
        "    buat_suara(item)\n",
        "\n"
      ],
      "metadata": {
        "colab": {
          "base_uri": "https://localhost:8080/"
        },
        "id": "XyjC5jmXkpkN",
        "outputId": "56fae7d7-f83f-4452-caea-55f10df74b6a"
      },
      "execution_count": null,
      "outputs": [
        {
          "output_type": "stream",
          "name": "stdout",
          "text": [
            "Demonstrasi Duck Typing :\n",
            "Kucing: Meow!\n",
            "Anjing: Gukguk!\n",
            "Bebek : Kewk kwek!\n",
            "Objek <class '__main__.Mobil'>\n"
          ]
        }
      ]
    },
    {
      "cell_type": "markdown",
      "source": [
        "## Praktikum 03"
      ],
      "metadata": {
        "id": "SqS-WL29mO58"
      }
    },
    {
      "cell_type": "code",
      "source": [
        "class KalkulatorSederhana:\n",
        "  def __init__(self, nama=\"Kalkulator\"):\n",
        "    self.nama = nama\n",
        "    print(f\"{self.nama} siap digunakan.\")\n",
        "\n",
        "  def tambah(self, *args):\n",
        "    print(f\"\\nMemanggil metode tambah dengan argumen: {args}\")\n",
        "    if not args:\n",
        "      print(\"Tidak ada angka untuk dijumlahkan\")\n",
        "      return 0\n",
        "\n",
        "    total = 0\n",
        "    valid_input = True\n",
        "\n",
        "    for angka in args:\n",
        "      if isinstance(angka, (int,float)):\n",
        "        total += angka\n",
        "      else:\n",
        "        print(f\"Peringatan : Argumen '{angka}' bukan angka dan diabaikan\")\n",
        "        valid_input = False\n",
        "\n",
        "    if valid_input :\n",
        "      print(f\"Hasil penjumlahan: {total}\")\n",
        "    else:\n",
        "      print(f\"Hasil penjumlahan (dengan beberapa input diabaikan) : {total}\")\n",
        "\n",
        "    return total\n",
        "\n",
        "if __name__ == \"__main__\":\n",
        "    calc = KalkulatorSederhana(\"Calc-01\")\n",
        "\n",
        "    print(\"\\n -- Percobaan Penjumlahan -- \")\n",
        "    calc.tambah(5,10)\n",
        "    calc.tambah(2,3,5,10)\n",
        "    calc.tambah(100)\n",
        "    calc.tambah()\n",
        "    calc.tambah(1,2, \"tiga\", 4, 5.5)\n",
        "\n"
      ],
      "metadata": {
        "colab": {
          "base_uri": "https://localhost:8080/"
        },
        "id": "hlmmMYggmQHv",
        "outputId": "971e6d4f-6478-4614-a392-995ffb487388"
      },
      "execution_count": null,
      "outputs": [
        {
          "output_type": "stream",
          "name": "stdout",
          "text": [
            "Calc-01 siap digunakan.\n",
            "\n",
            " -- Percobaan Penjumlahan -- \n",
            "\n",
            "Memanggil metode tambah dengan argumen: (5, 10)\n",
            "Hasil penjumlahan: 15\n",
            "\n",
            "Memanggil metode tambah dengan argumen: (2, 3, 5, 10)\n",
            "Hasil penjumlahan: 20\n",
            "\n",
            "Memanggil metode tambah dengan argumen: (100,)\n",
            "Hasil penjumlahan: 100\n",
            "\n",
            "Memanggil metode tambah dengan argumen: ()\n",
            "Tidak ada angka untuk dijumlahkan\n",
            "\n",
            "Memanggil metode tambah dengan argumen: (1, 2, 'tiga', 4, 5.5)\n",
            "Peringatan : Argumen 'tiga' bukan angka dan diabaikan\n",
            "Hasil penjumlahan (dengan beberapa input diabaikan) : 12.5\n"
          ]
        }
      ]
    },
    {
      "cell_type": "markdown",
      "source": [
        "## Percobaan 4"
      ],
      "metadata": {
        "id": "xo-ijbplo4uv"
      }
    },
    {
      "cell_type": "code",
      "source": [
        "class DataProcessor:\n",
        "  def __init__(self, processor_id):\n",
        "    self.processor_id = processor_id\n",
        "    print(f\"Data processor {self.processor_id} siap\")\n",
        "\n",
        "  def process(self, *args, **kwargs):\n",
        "    print(f\"\\n --- {self.processor_id} Memproses data ---\")\n",
        "\n",
        "    if args:\n",
        "      print(\"Argumen posisi diterima:\")\n",
        "      for i, arg in enumerate(args):\n",
        "        print(f\" args[{i}] : {arg} (tipe : {type(arg).__name__})\")\n",
        "    else:\n",
        "      print(\"Tidak ada argumen posisi\")\n",
        "\n",
        "    if kwargs:\n",
        "      print(\"Argumen kata kunci diterima:\")\n",
        "      for kunci, nilai in kwargs.items():\n",
        "        print(f\" {kunci} : {nilai} (tipe : {type(nilai).__name__})\")\n",
        "    else:\n",
        "      print(\"Tidak ada argumen kata kunci.\")\n",
        "\n",
        "    print(\"--------------------------\")\n",
        "\n",
        "if __name__ == \"__main__\":\n",
        "  processor1 = DataProcessor(\"DP-001\")\n",
        "\n",
        "  print(\"\\nPanggilan 1: Tanpa argumen tambahan\")\n",
        "  processor1.process()\n",
        "\n",
        "  print(\"\\nPanggilan2 : Hanya argumen posisi\")\n",
        "  processor1.process(100, \"Status OK\", 99.9, False)\n",
        "\n",
        "  print(\"\\nPanggilan 3: Hanya argumen kata kunci \")\n",
        "  processor1.process(user=\"admin\", level=5, mode=\"Verbose\")\n",
        "\n",
        "  print(\"\\nPanggilan : Hanya argumen kata kunci\")\n",
        "  processor1.process(\"Task-A\", \"Task-B\", status=\"Running\", priority=\"High\", thread_id = 54321)\n",
        "\n",
        "  print(\"\\nPanggilan 5: Argumen posisi kompleks\")\n",
        "  list_ids = [\"A1\", \"B2\", \"C3\"]\n",
        "\n",
        "  dict_paramas = {\"timeout\" : 30, \"retry\" : 3}\n",
        "  processor1.process(list_ids, dict_paramas, owner=\"system\", enabled=True)\n"
      ],
      "metadata": {
        "colab": {
          "base_uri": "https://localhost:8080/"
        },
        "id": "AoqFYdbZo51u",
        "outputId": "0ca7c0fd-5592-4a24-b180-686af0cc211e"
      },
      "execution_count": null,
      "outputs": [
        {
          "output_type": "stream",
          "name": "stdout",
          "text": [
            "Data processor DP-001 siap\n",
            "\n",
            "Panggilan 1: Tanpa argumen tambahan\n",
            "\n",
            " --- DP-001 Memproses data ---\n",
            "Tidak ada argumen posisi\n",
            "Tidak ada argumen kata kunci.\n",
            "--------------------------\n",
            "\n",
            "Panggilan2 : Hanya argumen posisi\n",
            "\n",
            " --- DP-001 Memproses data ---\n",
            "Argumen posisi diterima:\n",
            " args[0] : 100 (tipe : int)\n",
            " args[1] : Status OK (tipe : str)\n",
            " args[2] : 99.9 (tipe : float)\n",
            " args[3] : False (tipe : bool)\n",
            "Tidak ada argumen kata kunci.\n",
            "--------------------------\n",
            "\n",
            "Panggilan 3: Hanya argumen kata kunci \n",
            "\n",
            " --- DP-001 Memproses data ---\n",
            "Tidak ada argumen posisi\n",
            "Argumen kata kunci diterima:\n",
            " user : admin (tipe : str)\n",
            " level : 5 (tipe : int)\n",
            " mode : Verbose (tipe : str)\n",
            "--------------------------\n",
            "\n",
            "Panggilan : Hanya argumen kata kunci\n",
            "\n",
            " --- DP-001 Memproses data ---\n",
            "Argumen posisi diterima:\n",
            " args[0] : Task-A (tipe : str)\n",
            " args[1] : Task-B (tipe : str)\n",
            "Argumen kata kunci diterima:\n",
            " status : Running (tipe : str)\n",
            " priority : High (tipe : str)\n",
            " thread_id : 54321 (tipe : int)\n",
            "--------------------------\n",
            "\n",
            "Panggilan 5: Argumen posisi kompleks\n",
            "\n",
            " --- DP-001 Memproses data ---\n",
            "Argumen posisi diterima:\n",
            " args[0] : ['A1', 'B2', 'C3'] (tipe : list)\n",
            " args[1] : {'timeout': 30, 'retry': 3} (tipe : dict)\n",
            "Argumen kata kunci diterima:\n",
            " owner : system (tipe : str)\n",
            " enabled : True (tipe : bool)\n",
            "--------------------------\n"
          ]
        }
      ]
    },
    {
      "cell_type": "markdown",
      "source": [
        "## Praktikum 05"
      ],
      "metadata": {
        "id": "zwzjzOhqsaCZ"
      }
    },
    {
      "cell_type": "code",
      "source": [
        "import math\n",
        "\n",
        "class Bentuk:\n",
        "  def nama_bentuk(self):\n",
        "    return \"Bentuk Generik\"\n",
        "\n",
        "  def hitung_luas(self):\n",
        "    raise NotImplementedError(\"Subclass harus mengimplementasikan metode ini\")\n",
        "\n",
        "class Lingkaran(Bentuk):\n",
        "  def __init__(self, radius):\n",
        "    self.radius = radius\n",
        "\n",
        "  def nama_bentuk(self):\n",
        "    return \"Lingkaran\"\n",
        "\n",
        "  def hitung_luas(self):\n",
        "    return math.pi * (self.radius ** 2)\n",
        "\n",
        "class Persegi(Bentuk):\n",
        "  def __init__ (self, sisi):\n",
        "    self.sisi = sisi\n",
        "\n",
        "  def nama_bentuk(self):\n",
        "    return \"Persegi\"\n",
        "\n",
        "  def hitung_luas(self):\n",
        "    return self.sisi * self.sisi\n",
        "\n",
        "class TaplakMeja:\n",
        "  def __init__(self, panjang, lebar):\n",
        "    self.panjang = panjang\n",
        "    self.lebar = lebar\n",
        "\n",
        "  def hitung_luas(self):\n",
        "    return self.panjang * self.lebar\n",
        "\n",
        "  def deskripsi(self):\n",
        "    return f\"Taplak meja {self.panjang}x{self.lebar}\"\n",
        "\n",
        "def tampilkan_info_luas(objek_dengan_luas):\n",
        "  print(\"-\" * 20)\n",
        "\n",
        "  try:\n",
        "    luas = objek_dengan_luas.hitung_luas()\n",
        "    try:\n",
        "      nama= objek_dengan_luas.nama_bentuk()\n",
        "\n",
        "    except AttributeError:\n",
        "      nama = type(objek_dengan_luas).__name__\n",
        "\n",
        "    print(f\"Objek : {nama}\")\n",
        "    print(f\"Luas : {luas:.2f}\")\n",
        "\n",
        "  except AttributeError:\n",
        "    print(f\"Objek {type(objek_dengan_luas).__name__} tidak dapat dihitung luasnya (metode tidak ditemukan)\")\n",
        "\n",
        "  except NotImplementedError:\n",
        "    print(f\"Metode 'hitung_luas' belum diimplementasi untuk {type(objek_dengan_luas).__name__}\")\n",
        "\n",
        "if __name__ == \"__main__\":\n",
        "  lingkaran1 = Lingkaran(7)\n",
        "  persegi1 = Persegi(5)\n",
        "  taplak1 = TaplakMeja(1.5,0.8)\n",
        "  bentuk_dasar = Bentuk()\n",
        "  string_biasa = \"Ini string\"\n",
        "  daftar_item = [lingkaran1, persegi1, taplak1, bentuk_dasar, string_biasa]\n",
        "\n",
        "  print(\"Menampilkan info luas (Polimorfisme campuran)\")\n",
        "  for item in daftar_item:\n",
        "    tampilkan_info_luas(item)\n"
      ],
      "metadata": {
        "colab": {
          "base_uri": "https://localhost:8080/"
        },
        "id": "Dbmu1gzmqqg7",
        "outputId": "d823d3c3-aba6-4cf4-90dc-e669d3d2004c"
      },
      "execution_count": null,
      "outputs": [
        {
          "output_type": "stream",
          "name": "stdout",
          "text": [
            "Menampilkan info luas (Polimorfisme campuran)\n",
            "--------------------\n",
            "Objek : Lingkaran\n",
            "Luas : 153.94\n",
            "--------------------\n",
            "Objek : Persegi\n",
            "Luas : 25.00\n",
            "--------------------\n",
            "Objek : TaplakMeja\n",
            "Luas : 1.20\n",
            "--------------------\n",
            "Metode 'hitung_luas' belum diimplementasi untuk Bentuk\n",
            "--------------------\n",
            "Objek str tidak dapat dihitung luasnya (metode tidak ditemukan)\n"
          ]
        }
      ]
    },
    {
      "cell_type": "markdown",
      "source": [
        "## Praktikum 06"
      ],
      "metadata": {
        "id": "4rbKasq3xYCC"
      }
    },
    {
      "cell_type": "code",
      "source": [
        "class Burung:\n",
        "  def __init__ (self, nama) :\n",
        "    self.nama = nama\n",
        "\n",
        "  def terbang(self):\n",
        "    print(f\"{self.nama} terbang dengan cara umum\")\n",
        "\n",
        "  def bersuara(self):\n",
        "    print(f\"{self.nama} mengeluarkan suara burung\")\n",
        "\n",
        "class Elang(Burung):\n",
        "  def __init__(self, nama, rentang_sayap):\n",
        "    super().__init__(nama)\n",
        "    self.rentang_sayap = rentang_sayap\n",
        "\n",
        "  def terbang(self):\n",
        "    print(f\"{self.nama} terbang tinggi melayang di angkasa\")\n",
        "\n",
        "  def bersuara(self):\n",
        "    print(f\"{self.nama} berteriak nyaring!\")\n",
        "\n",
        "  def berburu(self):\n",
        "    print(f\"{self.nama} sedang mencari mangsa dari ketinggian\")\n",
        "\n",
        "class Pipit(Burung) :\n",
        "  def __init__(self, nama, warna_bulu):\n",
        "    super().__init__(nama)\n",
        "    self.warna_bulu = warna_bulu\n",
        "\n",
        "  def terbang(self):\n",
        "    print(f\"{self.nama} terbang cepat di antara pepohonan\")\n",
        "\n",
        "  def bersuara(self):\n",
        "    print(f\"{self.nama} berkicau merdu: Cit cit !\")\n",
        "\n",
        "  def membangun_sarang(self):\n",
        "    print(f\"{self.nama} sedang mengumpulkan ranting untung sarang\")\n",
        "\n",
        "def interaksi_dengan_burung(burung):\n",
        "  print(f\"\\n-- Berinteraksi dengan {type(burung).__name__} : {getattr(burung, 'nama', 'objek tidak dikenal')} --\")\n",
        "\n",
        "\n",
        "  if isinstance(burung, Burung):\n",
        "      burung.bersuara()\n",
        "      burung.terbang()\n",
        "\n",
        "      if isinstance(burung, Elang):\n",
        "        print(\"--> Ini adalah Elang!\")\n",
        "      elif isinstance(burung, Pipit):\n",
        "        print(\"--> Ini adalah pipit\")\n",
        "        burung.membangun_sarang()\n",
        "      else:\n",
        "        print(\"--> Ini adalah burung jenis umum (bukan Elang/Pipit).\")\n",
        "  else:\n",
        "      print(\"--> Objek ini bukan termasuk jenis burung\")\n",
        "      print(\"-\" * 25)\n",
        "\n",
        "if __name__ == \"__main__\":\n",
        "  elang_sumatra = Elang(\"Elang Sumatra\", 1.8)\n",
        "  pipit_rumah = Pipit(\"Pipit Rumah\", \"Abu-abu\")\n",
        "  merak = Burung(\"Merak\")\n",
        "  kucing_tetangga = \"Meong\"\n",
        "\n",
        "  koleksi_makhluk = [elang_sumatra, pipit_rumah, merak, kucing_tetangga]\n",
        "\n",
        "  for makhluk in koleksi_makhluk:\n",
        "    interaksi_dengan_burung(makhluk)\n",
        "\n",
        "\n",
        "\n"
      ],
      "metadata": {
        "colab": {
          "base_uri": "https://localhost:8080/"
        },
        "id": "FSEhdE8vxZBd",
        "outputId": "f2dc9248-8cd9-4925-e246-00e144a7ac4f"
      },
      "execution_count": null,
      "outputs": [
        {
          "output_type": "stream",
          "name": "stdout",
          "text": [
            "\n",
            "-- Berinteraksi dengan Elang : Elang Sumatra --\n",
            "Elang Sumatra berteriak nyaring!\n",
            "Elang Sumatra terbang tinggi melayang di angkasa\n",
            "--> Ini adalah Elang!\n",
            "\n",
            "-- Berinteraksi dengan Pipit : Pipit Rumah --\n",
            "Pipit Rumah berkicau merdu: Cit cit !\n",
            "Pipit Rumah terbang cepat di antara pepohonan\n",
            "--> Ini adalah pipit\n",
            "Pipit Rumah sedang mengumpulkan ranting untung sarang\n",
            "\n",
            "-- Berinteraksi dengan Burung : Merak --\n",
            "Merak mengeluarkan suara burung\n",
            "Merak terbang dengan cara umum\n",
            "--> Ini adalah burung jenis umum (bukan Elang/Pipit).\n",
            "\n",
            "-- Berinteraksi dengan str : objek tidak dikenal --\n",
            "--> Objek ini bukan termasuk jenis burung\n",
            "-------------------------\n"
          ]
        }
      ]
    },
    {
      "cell_type": "markdown",
      "source": [
        "## Penugasan"
      ],
      "metadata": {
        "id": "6pvdneGm2i45"
      }
    },
    {
      "cell_type": "markdown",
      "source": [
        "#### Buat Kelas Induk (Komputer)"
      ],
      "metadata": {
        "id": "gsuv-ZYj2x3u"
      }
    },
    {
      "cell_type": "code",
      "source": [
        "class Komputer:\n",
        "  def __init__(self, merk, processor, ram_gb):\n",
        "    self.merk = merk\n",
        "    self.processor = processor\n",
        "    self.ram_gb = ram_gb\n",
        "\n",
        "  def info_spesifikasi(self):\n",
        "    print(f\"Merk : {self.merk}\")\n",
        "    print(f\"Processor : {self.processor}\")\n",
        "    print(f\"RAM : {self.ram_gb} GB\")\n",
        "\n",
        "  def jalankan_aplikasi(self, nama_aplikasi):\n",
        "    print(f\"{self.merk} menjalankan aplikasi {nama_aplikasi}...\")\n",
        "\n",
        "  def install_software(self, *args):\n",
        "    print(f\"Menginstall {args} di {self.merk}\")\n",
        "    for software in args:\n",
        "      print(f\"Menginstall {software} di {self.merk}\")\n",
        "\n",
        "class Laptop(Komputer):\n",
        "  def __init__ (self, merk, processor, ram_gb,ukuran_layar_inch, berat_kg):\n",
        "    super().__init__(merk, processor, ram_gb)\n",
        "    self.layar_inch = ukuran_layar_inch\n",
        "    self.berat_kg = berat_kg\n",
        "\n",
        "  def info_spesifikasi(self):\n",
        "    super().info_spesifikasi()\n",
        "    print(f\"Ukuran Layar : {self.layar_inch}\")\n",
        "    print(f\"Berat : {self.berat_kg} KG\")\n",
        "\n",
        "class Desktop(Komputer):\n",
        "  def __init__(self, merk, processor, ram_gb, jenis_casing, monitor_external):\n",
        "    super().__init__(merk, processor, ram_gb)\n",
        "    self.jenis_casing = jenis_casing\n",
        "    self.monitor_external = monitor_external\n",
        "\n",
        "  def info_spesifikasi(self):\n",
        "    super().info_spesifikasi()\n",
        "    print(f\"Jenis Casing : {self.jenis_casing}\")\n",
        "    print(f\"Monitor External : {self.monitor_external}\")\n",
        "\n",
        "\n",
        "def cetak_semua_spesifikasi(daftar_komputer):\n",
        "  for komputer in daftar_komputer:\n",
        "    komputer.info_spesifikasi()\n",
        "    print(\"-\" * 40)\n",
        "\n",
        "if __name__ == \"__main__\":\n",
        "  lenovo_thinkpad = Laptop(\"Lenovo ThinkPad\", \"Intel Core i5\", 16, 13, 1)\n",
        "  imac = Desktop(\"Imac\", \"AMD Ryzen 6600\", 8, \"Mini PC\", True)\n",
        "\n",
        "  print(\"=== Spesifikasi Komputer ===\")\n",
        "  sebuah_list = [lenovo_thinkpad, imac]\n",
        "  cetak_semua_spesifikasi(sebuah_list)\n",
        "\n",
        "  print(\"=== Instalasi Software ===\")\n",
        "  lenovo_thinkpad.install_software(\"VSCode\")\n",
        "  print(\"-\" * 40)\n",
        "  imac.install_software(\"Blender\", \"Photoshop\", \"Chrome\")\n",
        "\n",
        "\n",
        "\n"
      ],
      "metadata": {
        "id": "oczRUMozx8z2",
        "outputId": "6fedbd8f-676d-47db-a34b-92aa24652742",
        "colab": {
          "base_uri": "https://localhost:8080/"
        }
      },
      "execution_count": 17,
      "outputs": [
        {
          "output_type": "stream",
          "name": "stdout",
          "text": [
            "=== Spesifikasi Komputer ===\n",
            "Merk : Lenovo ThinkPad\n",
            "Processor : Intel Core i5\n",
            "RAM : 16 GB\n",
            "Ukuran Layar : 13 inch\n",
            "Berat : 1 Kg KG\n",
            "----------------------------------------\n",
            "Merk : Imac\n",
            "Processor : AMD Ryzen 6600\n",
            "RAM : 8 GB\n",
            "Jenis Casing : Mini PC\n",
            "Monitor External : True\n",
            "----------------------------------------\n",
            "=== Instalasi Software ===\n",
            "Menginstall ('VSCode',) di Lenovo ThinkPad\n",
            "Menginstall VSCode di Lenovo ThinkPad\n",
            "----------------------------------------\n",
            "Menginstall ('Blender', 'Photoshop', 'Chrome') di Imac\n",
            "Menginstall Blender di Imac\n",
            "Menginstall Photoshop di Imac\n",
            "Menginstall Chrome di Imac\n"
          ]
        }
      ]
    },
    {
      "cell_type": "code",
      "source": [],
      "metadata": {
        "id": "J14kNPOQCxWe",
        "outputId": "59077fa5-a4dd-4a8b-c675-7149fed3b803",
        "colab": {
          "base_uri": "https://localhost:8080/"
        }
      },
      "execution_count": 16,
      "outputs": [
        {
          "output_type": "stream",
          "name": "stdout",
          "text": [
            "namanya aifad\n"
          ]
        }
      ]
    }
  ]
}