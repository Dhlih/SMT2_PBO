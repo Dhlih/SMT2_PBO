{
  "nbformat": 4,
  "nbformat_minor": 0,
  "metadata": {
    "colab": {
      "provenance": [],
      "authorship_tag": "ABX9TyP9wiagXeCJpMSDdwnTatxo",
      "include_colab_link": true
    },
    "kernelspec": {
      "name": "python3",
      "display_name": "Python 3"
    },
    "language_info": {
      "name": "python"
    }
  },
  "cells": [
    {
      "cell_type": "markdown",
      "metadata": {
        "id": "view-in-github",
        "colab_type": "text"
      },
      "source": [
        "<a href=\"https://colab.research.google.com/github/Dhlih/SMT2_PBO/blob/main/jobsheet05.ipynb\" target=\"_parent\"><img src=\"https://colab.research.google.com/assets/colab-badge.svg\" alt=\"Open In Colab\"/></a>"
      ]
    },
    {
      "cell_type": "code",
      "execution_count": null,
      "metadata": {
        "id": "XgKYQR88ijUR"
      },
      "outputs": [],
      "source": []
    },
    {
      "cell_type": "markdown",
      "source": [
        "## Praktikum 01"
      ],
      "metadata": {
        "id": "B2q30P3xiu4l"
      }
    },
    {
      "cell_type": "code",
      "source": [
        "class Burung:\n",
        "  def __init__(self, nama) :\n",
        "    self.nama = nama\n",
        "\n",
        "  def terbang(self) :\n",
        "    print(f\"{self.nama} terbang dengan cara umum\")\n",
        "\n",
        "  def bersuara(self) :\n",
        "    print(f\"{self.nama} mengeluarkan suara burung\")\n",
        "\n",
        "class Elang(Burung):\n",
        "  def __init__(self, nama, rentang_sayap):\n",
        "    super().__init__(nama)\n",
        "    self.rentang_sayap = rentang_sayap\n",
        "\n",
        "  def terbang(self):\n",
        "    print(f\"{self.nama} terbang tinggi melayang di angkasa\")\n",
        "\n",
        "  def bersuara(self) :\n",
        "    print(f\"{self.nama} berteriak nyaring!\")\n",
        "\n",
        "class Pipit(Burung):\n",
        "  def __init__(self, nama, warna_bulu):\n",
        "    super().__init__(nama)\n",
        "    self.warna_bulu = warna_bulu\n",
        "\n",
        "  def terbang(self):\n",
        "    print(f\"{self.nama} terbang cepat di antara pepohonan\")\n",
        "\n",
        "  def bersuara(self):\n",
        "    print(f\"{self.nama} berkicau merdu: Cit cit!\")\n",
        "\n",
        "def demonstrasi_aksi_burung(daftar_burung):\n",
        "  print(\"\\nAksi Burung:\")\n",
        "  for burung in daftar_burung:\n",
        "    print(f\"-- Aksi untuk {burung.nama}\")\n",
        "    burung.terbang()\n",
        "    burung.bersuara()\n",
        "    print(\"-\" * 15)\n",
        "\n",
        "if __name__ == \"__main__\":\n",
        "  elang_jawa  = Elang(\"Elang Jawa\", 1.5)\n",
        "  pipit_gereja = Pipit(\"Pipipt Gereja\", \"Coklat\")\n",
        "  burung_aneh = Burung(\"Burung misterius\")\n",
        "\n",
        "  koleksi_burung = [elang_jawa, pipit_gereja, burung_aneh]\n",
        "\n",
        "  demonstrasi_aksi_burung(koleksi_burung)\n",
        "\n",
        "  demonstrasi_aksi_burung(koleksi_burung)"
      ],
      "metadata": {
        "colab": {
          "base_uri": "https://localhost:8080/"
        },
        "id": "aKKYlSSXixsZ",
        "outputId": "e3cfc7d0-16f1-470e-8a30-1c38bb5dd19f"
      },
      "execution_count": null,
      "outputs": [
        {
          "output_type": "stream",
          "name": "stdout",
          "text": [
            "\n",
            "Aksi Burung:\n",
            "-- Aksi untuk Elang Jawa\n",
            "Elang Jawa terbang tinggi melayang di angkasa\n",
            "Elang Jawa berteriak nyaring!\n",
            "---------------\n",
            "-- Aksi untuk Pipipt Gereja\n",
            "Pipipt Gereja terbang cepat di antara pepohonan\n",
            "Pipipt Gereja berkicau merdu: Cit cit!\n",
            "---------------\n",
            "-- Aksi untuk Burung misterius\n",
            "Burung misterius terbang dengan cara umum\n",
            "Burung misterius mengeluarkan suara burung\n",
            "---------------\n",
            "\n",
            "Aksi Burung:\n",
            "-- Aksi untuk Elang Jawa\n",
            "Elang Jawa terbang tinggi melayang di angkasa\n",
            "Elang Jawa berteriak nyaring!\n",
            "---------------\n",
            "-- Aksi untuk Pipipt Gereja\n",
            "Pipipt Gereja terbang cepat di antara pepohonan\n",
            "Pipipt Gereja berkicau merdu: Cit cit!\n",
            "---------------\n",
            "-- Aksi untuk Burung misterius\n",
            "Burung misterius terbang dengan cara umum\n",
            "Burung misterius mengeluarkan suara burung\n",
            "---------------\n"
          ]
        }
      ]
    },
    {
      "cell_type": "markdown",
      "source": [
        "## Praktikum 02"
      ],
      "metadata": {
        "id": "l6Vm0axBknuZ"
      }
    },
    {
      "cell_type": "code",
      "source": [
        "class Kucing:\n",
        "  def bersuara(self) :\n",
        "    print(\"Kucing: Meow!\")\n",
        "\n",
        "class Anjing:\n",
        "  def bersuara(self) :\n",
        "    print(\"Anjing: Gukguk!\")\n",
        "\n",
        "class Bebek:\n",
        "  def bersuara(self):\n",
        "    print(\"Bebek : Kewk kwek!\")\n",
        "\n",
        "class Mobil:\n",
        "  def jalankan(self):\n",
        "    print(\"Mobil : Brummm!\")\n",
        "\n",
        "class Mobil:\n",
        "  def jalankan(self):\n",
        "    print(\"Mobil : Brummm!\")\n",
        "\n",
        "def buat_suara(objek_yang_bisa_bersuara):\n",
        "  try:\n",
        "    objek_yang_bisa_bersuara.bersuara()\n",
        "  except AttributeError:\n",
        "    print(f\"Objek {type(objek_yang_bisa_bersuara)}\")\n",
        "\n",
        "if __name__ == \"__main__\":\n",
        "  kucing1 = Kucing()\n",
        "  anjign1 = Anjing()\n",
        "  bebek = Bebek()\n",
        "  mobil = Mobil()\n",
        "\n",
        "  daftar_objek = [kucing1, anjign1, bebek, mobil]\n",
        "\n",
        "  print(\"Demonstrasi Duck Typing :\")\n",
        "  for item in daftar_objek:\n",
        "    buat_suara(item)\n",
        "\n"
      ],
      "metadata": {
        "colab": {
          "base_uri": "https://localhost:8080/"
        },
        "id": "XyjC5jmXkpkN",
        "outputId": "56fae7d7-f83f-4452-caea-55f10df74b6a"
      },
      "execution_count": null,
      "outputs": [
        {
          "output_type": "stream",
          "name": "stdout",
          "text": [
            "Demonstrasi Duck Typing :\n",
            "Kucing: Meow!\n",
            "Anjing: Gukguk!\n",
            "Bebek : Kewk kwek!\n",
            "Objek <class '__main__.Mobil'>\n"
          ]
        }
      ]
    },
    {
      "cell_type": "markdown",
      "source": [
        "## Praktikum 03"
      ],
      "metadata": {
        "id": "SqS-WL29mO58"
      }
    },
    {
      "cell_type": "code",
      "source": [
        "class KalkulatorSederhana:\n",
        "  def __init__(self, nama=\"Kalkulator\"):\n",
        "    self.nama = nama\n",
        "    print(f\"{self.nama} siap digunakan.\")\n",
        "\n",
        "  def tambah(self, *args):\n",
        "    print(f\"\\nMemanggil metode tambah dengan argumen: {args}\")\n",
        "    if not args:\n",
        "      print(\"Tidak ada angka untuk dijumlahkan\")\n",
        "      return 0\n",
        "\n",
        "    total = 0\n",
        "    valid_input = True\n",
        "\n",
        "    for angka in args:\n",
        "      if isinstance(angka, (int,float)):\n",
        "        total += angka\n",
        "      else:\n",
        "        print(f\"Peringatan : Argumen '{angka}' bukan angka dan diabaikan\")\n",
        "        valid_input = False\n",
        "\n",
        "    if valid_input :\n",
        "      print(f\"Hasil penjumlahan: {total}\")\n",
        "    else:\n",
        "      print(f\"Hasil penjumlahan (dengan beberapa input diabaikan) : {total}\")\n",
        "\n",
        "    return total\n",
        "\n",
        "if __name__ == \"__main__\":\n",
        "    calc = KalkulatorSederhana(\"Calc-01\")\n",
        "\n",
        "    print(\"\\n -- Percobaan Penjumlahan -- \")\n",
        "    calc.tambah(5,10)\n",
        "    calc.tambah(2,3,5,10)\n",
        "    calc.tambah(100)\n",
        "    calc.tambah()\n",
        "    calc.tambah(1,2, \"tiga\", 4, 5.5)\n",
        "\n"
      ],
      "metadata": {
        "colab": {
          "base_uri": "https://localhost:8080/"
        },
        "id": "hlmmMYggmQHv",
        "outputId": "971e6d4f-6478-4614-a392-995ffb487388"
      },
      "execution_count": null,
      "outputs": [
        {
          "output_type": "stream",
          "name": "stdout",
          "text": [
            "Calc-01 siap digunakan.\n",
            "\n",
            " -- Percobaan Penjumlahan -- \n",
            "\n",
            "Memanggil metode tambah dengan argumen: (5, 10)\n",
            "Hasil penjumlahan: 15\n",
            "\n",
            "Memanggil metode tambah dengan argumen: (2, 3, 5, 10)\n",
            "Hasil penjumlahan: 20\n",
            "\n",
            "Memanggil metode tambah dengan argumen: (100,)\n",
            "Hasil penjumlahan: 100\n",
            "\n",
            "Memanggil metode tambah dengan argumen: ()\n",
            "Tidak ada angka untuk dijumlahkan\n",
            "\n",
            "Memanggil metode tambah dengan argumen: (1, 2, 'tiga', 4, 5.5)\n",
            "Peringatan : Argumen 'tiga' bukan angka dan diabaikan\n",
            "Hasil penjumlahan (dengan beberapa input diabaikan) : 12.5\n"
          ]
        }
      ]
    },
    {
      "cell_type": "markdown",
      "source": [
        "## Percobaan 4"
      ],
      "metadata": {
        "id": "xo-ijbplo4uv"
      }
    },
    {
      "cell_type": "code",
      "source": [
        "class DataProcessor:\n",
        "  def __init__(self, processor_id):\n",
        "    self.processor_id = processor_id\n",
        "    print(f\"Data processor {self.processor_id} siap\")\n",
        "\n",
        "  def process(self, *args, **kwargs):\n",
        "    print(f\"\\n --- {self.processor_id} Memproses data ---\")\n",
        "\n",
        "    if args:\n",
        "      print(\"Argumen posisi diterima:\")\n",
        "      for i, arg in enumerate(args):\n",
        "        print(f\" args[{i}] : {arg} (tipe : {type(arg).__name__})\")\n",
        "    else:\n",
        "      print(\"Tidak ada argumen posisi\")\n",
        "\n",
        "    if kwargs:\n",
        "      print(\"Argumen kata kunci diterima:\")\n",
        "      for kunci, nilai in kwargs.items():\n",
        "        print(f\" {kunci} : {nilai} (tipe : {type(nilai).__name__})\")\n",
        "    else:\n",
        "      print(\"Tidak ada argumen kata kunci.\")\n",
        "\n",
        "    print(\"--------------------------\")\n",
        "\n",
        "if __name__ == \"__main__\":\n",
        "  processor1 = DataProcessor(\"DP-001\")\n",
        "\n",
        "  print(\"\\nPanggilan 1: Tanpa argumen tambahan\")\n",
        "  processor1.process()\n",
        "\n",
        "  print(\"\\nPanggilan2 : Hanya argumen posisi\")\n",
        "  processor1.process(100, \"Status OK\", 99.9, False)\n",
        "\n",
        "  print(\"\\nPanggilan 3: Hanya argumen kata kunci \")\n",
        "  processor1.process(user=\"admin\", level=5, mode=\"Verbose\")\n",
        "\n",
        "  print(\"\\nPanggilan : Hanya argumen kata kunci\")\n",
        "  processor1.process(\"Task-A\", \"Task-B\", status=\"Running\", priority=\"High\", thread_id = 54321)\n",
        "\n",
        "  print(\"\\nPanggilan 5: Argumen posisi kompleks\")\n",
        "  list_ids = [\"A1\", \"B2\", \"C3\"]\n",
        "\n",
        "  dict_paramas = {\"timeout\" : 30, \"retry\" : 3}\n",
        "  processor1.process(list_ids, dict_paramas, owner=\"system\", enabled=True)\n"
      ],
      "metadata": {
        "colab": {
          "base_uri": "https://localhost:8080/"
        },
        "id": "AoqFYdbZo51u",
        "outputId": "0ca7c0fd-5592-4a24-b180-686af0cc211e"
      },
      "execution_count": null,
      "outputs": [
        {
          "output_type": "stream",
          "name": "stdout",
          "text": [
            "Data processor DP-001 siap\n",
            "\n",
            "Panggilan 1: Tanpa argumen tambahan\n",
            "\n",
            " --- DP-001 Memproses data ---\n",
            "Tidak ada argumen posisi\n",
            "Tidak ada argumen kata kunci.\n",
            "--------------------------\n",
            "\n",
            "Panggilan2 : Hanya argumen posisi\n",
            "\n",
            " --- DP-001 Memproses data ---\n",
            "Argumen posisi diterima:\n",
            " args[0] : 100 (tipe : int)\n",
            " args[1] : Status OK (tipe : str)\n",
            " args[2] : 99.9 (tipe : float)\n",
            " args[3] : False (tipe : bool)\n",
            "Tidak ada argumen kata kunci.\n",
            "--------------------------\n",
            "\n",
            "Panggilan 3: Hanya argumen kata kunci \n",
            "\n",
            " --- DP-001 Memproses data ---\n",
            "Tidak ada argumen posisi\n",
            "Argumen kata kunci diterima:\n",
            " user : admin (tipe : str)\n",
            " level : 5 (tipe : int)\n",
            " mode : Verbose (tipe : str)\n",
            "--------------------------\n",
            "\n",
            "Panggilan : Hanya argumen kata kunci\n",
            "\n",
            " --- DP-001 Memproses data ---\n",
            "Argumen posisi diterima:\n",
            " args[0] : Task-A (tipe : str)\n",
            " args[1] : Task-B (tipe : str)\n",
            "Argumen kata kunci diterima:\n",
            " status : Running (tipe : str)\n",
            " priority : High (tipe : str)\n",
            " thread_id : 54321 (tipe : int)\n",
            "--------------------------\n",
            "\n",
            "Panggilan 5: Argumen posisi kompleks\n",
            "\n",
            " --- DP-001 Memproses data ---\n",
            "Argumen posisi diterima:\n",
            " args[0] : ['A1', 'B2', 'C3'] (tipe : list)\n",
            " args[1] : {'timeout': 30, 'retry': 3} (tipe : dict)\n",
            "Argumen kata kunci diterima:\n",
            " owner : system (tipe : str)\n",
            " enabled : True (tipe : bool)\n",
            "--------------------------\n"
          ]
        }
      ]
    },
    {
      "cell_type": "markdown",
      "source": [
        "## Praktikum 05"
      ],
      "metadata": {
        "id": "zwzjzOhqsaCZ"
      }
    },
    {
      "cell_type": "code",
      "source": [
        "import math\n",
        "\n",
        "class Bentuk:\n",
        "  def nama_bentuk(self):\n",
        "    return \"Bentuk Generik\"\n",
        "\n",
        "  def hitung_luas(self):\n",
        "    raise NotImplementedError(\"Subclass harus mengimplementasikan metode ini\")\n",
        "\n",
        "class Lingkaran(Bentuk):\n",
        "  def __init__(self, radius):\n",
        "    self.radius = radius\n",
        "\n",
        "  def nama_bentuk(self):\n",
        "    return \"Lingkaran\"\n",
        "\n",
        "  def hitung_luas(self):\n",
        "    return math.pi * (self.radius ** 2)\n",
        "\n",
        "class Persegi(Bentuk):\n",
        "  def __init__ (self, sisi):\n",
        "    self.sisi = sisi\n",
        "\n",
        "  def nama_bentuk(self):\n",
        "    return \"Persegi\"\n",
        "\n",
        "  def hitung_luas(self):\n",
        "    return self.sisi * self.sisi\n",
        "\n",
        "class TaplakMeja:\n",
        "  def __init__(self, panjang, lebar):\n",
        "    self.panjang = panjang\n",
        "    self.lebar = lebar\n",
        "\n",
        "  def hitung_luas(self):\n",
        "    return self.panjang * self.lebar\n",
        "\n",
        "  def deskripsi(self):\n",
        "    return f\"Taplak meja {self.panjang}x{self.lebar}\"\n",
        "\n",
        "def tampilkan_info_luas(objek_dengan_luas):\n",
        "  print(\"-\" * 20)\n",
        "\n",
        "  try:\n",
        "    luas = objek_dengan_luas.hitung_luas()\n",
        "    try:\n",
        "      nama= objek_dengan_luas.nama_bentuk()\n",
        "\n",
        "    except AttributeError:\n",
        "      nama = type(objek_dengan_luas).__name__\n",
        "\n",
        "    print(f\"Objek : {nama}\")\n",
        "    print(f\"Luas : {luas:.2f}\")\n",
        "\n",
        "  except AttributeError:\n",
        "    print(f\"Objek {type(objek_dengan_luas).__name__} tidak dapat dihitung luasnya (metode tidak ditemukan)\")\n",
        "\n",
        "  except NotImplementedError:\n",
        "    print(f\"Metode 'hitung_luas' belum diimplementasi untuk {type(objek_dengan_luas).__name__}\")\n",
        "\n",
        "if __name__ == \"__main__\":\n",
        "  lingkaran1 = Lingkaran(7)\n",
        "  persegi1 = Persegi(5)\n",
        "  taplak1 = TaplakMeja(1.5,0.8)\n",
        "  bentuk_dasar = Bentuk()\n",
        "  string_biasa = \"Ini string\"\n",
        "  daftar_item = [lingkaran1, persegi1, taplak1, bentuk_dasar, string_biasa]\n",
        "\n",
        "  print(\"Menampilkan info luas (Polimorfisme campuran)\")\n",
        "  for item in daftar_item:\n",
        "    tampilkan_info_luas(item)\n"
      ],
      "metadata": {
        "colab": {
          "base_uri": "https://localhost:8080/"
        },
        "id": "Dbmu1gzmqqg7",
        "outputId": "d823d3c3-aba6-4cf4-90dc-e669d3d2004c"
      },
      "execution_count": null,
      "outputs": [
        {
          "output_type": "stream",
          "name": "stdout",
          "text": [
            "Menampilkan info luas (Polimorfisme campuran)\n",
            "--------------------\n",
            "Objek : Lingkaran\n",
            "Luas : 153.94\n",
            "--------------------\n",
            "Objek : Persegi\n",
            "Luas : 25.00\n",
            "--------------------\n",
            "Objek : TaplakMeja\n",
            "Luas : 1.20\n",
            "--------------------\n",
            "Metode 'hitung_luas' belum diimplementasi untuk Bentuk\n",
            "--------------------\n",
            "Objek str tidak dapat dihitung luasnya (metode tidak ditemukan)\n"
          ]
        }
      ]
    },
    {
      "cell_type": "markdown",
      "source": [
        "## Praktikum 06"
      ],
      "metadata": {
        "id": "4rbKasq3xYCC"
      }
    },
    {
      "cell_type": "code",
      "source": [
        "class Burung:\n",
        "  def __init__ (self, nama) :\n",
        "    self.nama = nama\n",
        "\n",
        "  def terbang(self):\n",
        "    print(f\"{self.nama} terbang dengan cara umum\")\n",
        "\n",
        "  def bersuara(self):\n",
        "    print(f\"{self.nama} mengeluarkan suara burung\")\n",
        "\n",
        "class Elang(Burung):\n",
        "  def __init__(self, nama, rentang_sayap):\n",
        "    super().__init__(nama)\n",
        "    self.rentang_sayap = rentang_sayap\n",
        "\n",
        "  def terbang(self):\n",
        "    print(f\"{self.nama} terbang tinggi melayang di angkasa\")\n",
        "\n",
        "  def bersuara(self):\n",
        "    print(f\"{self.nama} berteriak nyaring!\")\n",
        "\n",
        "  def berburu(self):\n",
        "    print(f\"{self.nama} sedang mencari mangsa dari ketinggian\")\n",
        "\n",
        "class Pipit(Burung) :\n",
        "  def __init__(self, nama, warna_bulu):\n",
        "    super().__init__(nama)\n",
        "    self.warna_bulu = warna_bulu\n",
        "\n",
        "  def terbang(self):\n",
        "    print(f\"{self.nama} terbang cepat di antara pepohonan\")\n",
        "\n",
        "  def bersuara(self):\n",
        "    print(f\"{self.nama} berkicau merdu: Cit cit !\")\n",
        "\n",
        "  def membangun_sarang(self):\n",
        "    print(f\"{self.nama} sedang mengumpulkan ranting untung sarang\")\n",
        "\n",
        "def interaksi_dengan_burung(burung):\n",
        "  print(f\"\\n-- Berinteraksi dengan {type(burung).__name__} : {getattr(burung, 'nama', 'objek tidak dikenal')} --\")\n",
        "\n",
        "\n",
        "  if isinstance(burung, Burung):\n",
        "      burung.bersuara()\n",
        "      burung.terbang()\n",
        "\n",
        "      if isinstance(burung, Elang):\n",
        "        print(\"--> Ini adalah Elang!\")\n",
        "      elif isinstance(burung, Pipit):\n",
        "        print(\"--> Ini adalah pipit\")\n",
        "        burung.membangun_sarang()\n",
        "      else:\n",
        "        print(\"--> Ini adalah burung jenis umum (bukan Elang/Pipit).\")\n",
        "  else:\n",
        "      print(\"--> Objek ini bukan termasuk jenis burung\")\n",
        "      print(\"-\" * 25)\n",
        "\n",
        "if __name__ == \"__main__\":\n",
        "  elang_sumatra = Elang(\"Elang Sumatra\", 1.8)\n",
        "  pipit_rumah = Pipit(\"Pipit Rumah\", \"Abu-abu\")\n",
        "  merak = Burung(\"Merak\")\n",
        "  kucing_tetangga = \"Meong\"\n",
        "\n",
        "  koleksi_makhluk = [elang_sumatra, pipit_rumah, merak, kucing_tetangga]\n",
        "\n",
        "  for makhluk in koleksi_makhluk:\n",
        "    interaksi_dengan_burung(makhluk)\n",
        "\n",
        "\n",
        "\n"
      ],
      "metadata": {
        "colab": {
          "base_uri": "https://localhost:8080/"
        },
        "id": "FSEhdE8vxZBd",
        "outputId": "f2dc9248-8cd9-4925-e246-00e144a7ac4f"
      },
      "execution_count": null,
      "outputs": [
        {
          "output_type": "stream",
          "name": "stdout",
          "text": [
            "\n",
            "-- Berinteraksi dengan Elang : Elang Sumatra --\n",
            "Elang Sumatra berteriak nyaring!\n",
            "Elang Sumatra terbang tinggi melayang di angkasa\n",
            "--> Ini adalah Elang!\n",
            "\n",
            "-- Berinteraksi dengan Pipit : Pipit Rumah --\n",
            "Pipit Rumah berkicau merdu: Cit cit !\n",
            "Pipit Rumah terbang cepat di antara pepohonan\n",
            "--> Ini adalah pipit\n",
            "Pipit Rumah sedang mengumpulkan ranting untung sarang\n",
            "\n",
            "-- Berinteraksi dengan Burung : Merak --\n",
            "Merak mengeluarkan suara burung\n",
            "Merak terbang dengan cara umum\n",
            "--> Ini adalah burung jenis umum (bukan Elang/Pipit).\n",
            "\n",
            "-- Berinteraksi dengan str : objek tidak dikenal --\n",
            "--> Objek ini bukan termasuk jenis burung\n",
            "-------------------------\n"
          ]
        }
      ]
    },
    {
      "cell_type": "markdown",
      "source": [
        "## Penugasan"
      ],
      "metadata": {
        "id": "6pvdneGm2i45"
      }
    },
    {
      "cell_type": "markdown",
      "source": [
        "![diagram.png](data:image/png;base64,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)"
      ],
      "metadata": {
        "id": "fEG3tb7VEuvH"
      }
    },
    {
      "cell_type": "code",
      "source": [
        "class Komputer:\n",
        "  def __init__(self, merk, processor, ram_gb):\n",
        "    self.merk = merk\n",
        "    self.processor = processor\n",
        "    self.ram_gb = ram_gb\n",
        "\n",
        "  def info_spesifikasi(self):\n",
        "    print(f\"Merk : {self.merk}\")\n",
        "    print(f\"Processor : {self.processor}\")\n",
        "    print(f\"RAM : {self.ram_gb} GB\")\n",
        "\n",
        "  def jalankan_aplikasi(self, nama_aplikasi):\n",
        "    print(f\"{self.merk} menjalankan aplikasi {nama_aplikasi}...\")\n",
        "\n",
        "  def install_software(self, *args):\n",
        "    print(f\"Menginstall {args} di {self.merk}\")\n",
        "    for software in args:\n",
        "      print(f\"Menginstall {software} di {self.merk}\")\n",
        "\n",
        "class Laptop(Komputer):\n",
        "  def __init__ (self, merk, processor, ram_gb,ukuran_layar_inch, berat_kg):\n",
        "    super().__init__(merk, processor, ram_gb)\n",
        "    self.layar_inch = ukuran_layar_inch\n",
        "    self.berat_kg = berat_kg\n",
        "\n",
        "  def info_spesifikasi(self):\n",
        "    super().info_spesifikasi()\n",
        "    print(f\"Ukuran Layar : {self.layar_inch}\")\n",
        "    print(f\"Berat : {self.berat_kg} KG\")\n",
        "\n",
        "class Desktop(Komputer):\n",
        "  def __init__(self, merk, processor, ram_gb, jenis_casing, monitor_external):\n",
        "    super().__init__(merk, processor, ram_gb)\n",
        "    self.jenis_casing = jenis_casing\n",
        "    self.monitor_external = monitor_external\n",
        "\n",
        "  def info_spesifikasi(self):\n",
        "    super().info_spesifikasi()\n",
        "    print(f\"Jenis Casing : {self.jenis_casing}\")\n",
        "    print(f\"Monitor External : {self.monitor_external}\")\n",
        "\n",
        "\n",
        "def cetak_semua_spesifikasi(daftar_komputer):\n",
        "  for komputer in daftar_komputer:\n",
        "    komputer.info_spesifikasi()\n",
        "    print(\"-\" * 40)\n",
        "\n",
        "if __name__ == \"__main__\":\n",
        "  lenovo_thinkpad = Laptop(\"Lenovo ThinkPad\", \"Intel Core i5\", 16, 13, 1)\n",
        "  imac = Desktop(\"Imac\", \"AMD Ryzen 6600\", 8, \"Mini PC\", True)\n",
        "\n",
        "  print(\"=== Spesifikasi Komputer ===\")\n",
        "  sebuah_list = [lenovo_thinkpad, imac]\n",
        "  cetak_semua_spesifikasi(sebuah_list)\n",
        "\n",
        "  print(\"=== Instalasi Software ===\")\n",
        "  lenovo_thinkpad.install_software(\"VSCode\")\n",
        "  print(\"-\" * 40)\n",
        "  imac.install_software(\"Blender\", \"Photoshop\", \"Chrome\")\n",
        "\n",
        "\n",
        "\n"
      ],
      "metadata": {
        "id": "oczRUMozx8z2",
        "colab": {
          "base_uri": "https://localhost:8080/"
        },
        "outputId": "6fedbd8f-676d-47db-a34b-92aa24652742"
      },
      "execution_count": 17,
      "outputs": [
        {
          "output_type": "stream",
          "name": "stdout",
          "text": [
            "=== Spesifikasi Komputer ===\n",
            "Merk : Lenovo ThinkPad\n",
            "Processor : Intel Core i5\n",
            "RAM : 16 GB\n",
            "Ukuran Layar : 13 inch\n",
            "Berat : 1 Kg KG\n",
            "----------------------------------------\n",
            "Merk : Imac\n",
            "Processor : AMD Ryzen 6600\n",
            "RAM : 8 GB\n",
            "Jenis Casing : Mini PC\n",
            "Monitor External : True\n",
            "----------------------------------------\n",
            "=== Instalasi Software ===\n",
            "Menginstall ('VSCode',) di Lenovo ThinkPad\n",
            "Menginstall VSCode di Lenovo ThinkPad\n",
            "----------------------------------------\n",
            "Menginstall ('Blender', 'Photoshop', 'Chrome') di Imac\n",
            "Menginstall Blender di Imac\n",
            "Menginstall Photoshop di Imac\n",
            "Menginstall Chrome di Imac\n"
          ]
        }
      ]
    },
    {
      "cell_type": "code",
      "source": [],
      "metadata": {
        "colab": {
          "base_uri": "https://localhost:8080/"
        },
        "id": "J14kNPOQCxWe",
        "outputId": "59077fa5-a4dd-4a8b-c675-7149fed3b803"
      },
      "execution_count": 16,
      "outputs": [
        {
          "output_type": "stream",
          "name": "stdout",
          "text": [
            "namanya aifad\n"
          ]
        }
      ]
    }
  ]
}